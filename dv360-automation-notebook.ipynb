{
  "nbformat": 4,
  "nbformat_minor": 0,
  "metadata": {
    "colab": {
      "name": "dv360-automation-notebook updated 21.5.21.ipynb",
      "provenance": [],
      "collapsed_sections": [
        "rvbhSbEqIkvz"
      ],
      "toc_visible": true
    },
    "kernelspec": {
      "name": "python3",
      "display_name": "Python 3"
    }
  },
  "cells": [
    {
      "cell_type": "code",
      "metadata": {
        "id": "daZgRYTNfKjd"
      },
      "source": [
        "# Copyright 2020 Google LLC\n",
        "\n",
        "# Licensed under the Apache License, Version 2.0 (the \"License\");\n",
        "# you may not use this file except in compliance with the License.\n",
        "# You may obtain a copy of the License at\n",
        "\n",
        "#     https://www.apache.org/licenses/LICENSE-2.0\n",
        "\n",
        "# Unless required by applicable law or agreed to in writing, software\n",
        "# distributed under the License is distributed on an \"AS IS\" BASIS,\n",
        "# WITHOUT WARRANTIES OR CONDITIONS OF ANY KIND, either express or implied.\n",
        "# See the License for the specific language governing permissions and\n",
        "# limitations under the License."
      ],
      "execution_count": null,
      "outputs": []
    },
    {
      "cell_type": "markdown",
      "metadata": {
        "id": "j9oYcd0LsZaG"
      },
      "source": [
        "# DV360 Automation: codelab\n",
        "Author: Matt Lynam\n",
        "\n",
        "[![Open In Colab](https://colab.research.google.com/assets/colab-badge.svg)](https://colab.research.google.com/github/google/dv360-automation/blob/master/dv360-automation-notebook.ipynb)"
      ]
    },
    {
      "cell_type": "markdown",
      "metadata": {
        "id": "jdTyEks_9XJD"
      },
      "source": [
        "# Objective\n",
        "\n",
        "Enable Display & Video 360 (DV360) advertisers to increase workflow efficiency by utilising the right automation solution according to their needs, resources and technical capability.\n",
        "\n",
        "**Goals**\n",
        "* Provide an overview of the current automation suite available in DV360\n",
        "* Demonstrate the capabilities and limitations of DV360's UI and APIs\n",
        "* Explore common advertiser use cases and pitfalls\n",
        "* Acquire hands-on experience by applying key concepts using a fictional case study"
      ]
    },
    {
      "cell_type": "markdown",
      "metadata": {
        "id": "5mXddxxCyopl"
      },
      "source": [
        "# 0) Setup and authentication"
      ]
    },
    {
      "cell_type": "markdown",
      "metadata": {
        "id": "uuo6MXz7KXpM"
      },
      "source": [
        "**Google Colab primer**\n",
        "\n",
        "Google Colaboratory, or \"Colab\" for short, allows you to write and execute Python in your browser, with:\n",
        "- Zero configuration required\n",
        "- Free access to GPUs\n",
        "- Easy sharing & colaboration \n",
        "\n",
        "A notebook is a list of cells, containing either **explanatory text** or **executable code** and its output. This is a **text cell**. \n",
        "\n",
        "Useful Colab tips\n",
        "* Double-click within the cell to edit\n",
        "* Code cells can be executed by clicking the **Play icon** in the left gutter of the cell; or with **Cmd/Ctrl + Enter** to run the cell in place;\n",
        "* Use **Cmd/Ctrl + /** to comment out a line of code"
      ]
    },
    {
      "cell_type": "markdown",
      "metadata": {
        "id": "tNwwCLFNyhEP"
      },
      "source": [
        "## 0.1 Install Python client libraries"
      ]
    },
    {
      "cell_type": "markdown",
      "metadata": {
        "id": "qrAZKywqxzbf"
      },
      "source": [
        "Run the following block to install the latest Google Python Client Library and import additional libraries used for this workshop."
      ]
    },
    {
      "cell_type": "code",
      "metadata": {
        "id": "4RnbX0JsMKNG"
      },
      "source": [
        "!pip install google-api-python-client\n",
        "!pip install google-cloud-vision\n",
        "\n",
        "import csv\n",
        "import datetime\n",
        "import io\n",
        "import json\n",
        "import pprint\n",
        "\n",
        "from google.api_core import retry\n",
        "from google.cloud import vision\n",
        "from google.colab import files\n",
        "from google_auth_oauthlib.flow import InstalledAppFlow\n",
        "from googleapiclient import discovery\n",
        "from googleapiclient import http\n",
        "import pandas as pd\n",
        "import requests\n",
        "\n",
        "print('Successfully imported Python libraries!')"
      ],
      "execution_count": null,
      "outputs": []
    },
    {
      "cell_type": "markdown",
      "metadata": {
        "id": "9fOhUBvXzfKh"
      },
      "source": [
        "## 0.2 Setup your GCP project\n",
        "\n",
        "To utilise the DV360 API, you need a Google Cloud project. For the purpose of this workshop, we've done this for you, but normally you'd have to complete the following steps, before you can make requests using the DV360 API:\n",
        "\n",
        "1. Select or create a [Google Cloud Platform project.](https://console.cloud.google.com/cloud-resource-manager)\n",
        "\n",
        "2. Enable [billing](https://cloud.google.com/billing/docs/how-to/modify-project) on your project.\n",
        "\n",
        "3. Enable the 'Display & Video 360' and 'DoubleClick Bid Manager' API from the [API library](https://console.cloud.google.com/apis/library)\n",
        "\n",
        "**Create GCP credentials**\n",
        "\n",
        "We've also generated credentials for you, but if you needed to generate new credentials, this would be the process:\n",
        "\n",
        "1. Go to the [API credentials page](https://console.cloud.google.com/apis/credentials) in the Cloud Platform Console.\n",
        "1. Fill out the required fields on the [OAuth consent screen](https://console.cloud.google.com/apis/credentials/consent).\n",
        "1. On the [credentials page](https://console.cloud.google.com/apis/credentials), click Create credentials >> OAuth client ID.\n",
        ">![Download JSON](https://github.com/google/dv360-automation/blob/master/docs/images/oauth.png?raw=true)\n",
        "1. Select **Other** as the application type, and then click **Create**.\n",
        "1. Download the credentials by clicking the **Download JSON** button \n",
        "> ![Download JSON](https://github.com/google/dv360-automation/blob/master/docs/images/download-json.png?raw=true)\n",
        "\n",
        "Reference: https://developers.google.com/display-video/api/guides/how-tos/authorizing"
      ]
    },
    {
      "cell_type": "markdown",
      "metadata": {
        "id": "3NK281NQpdIo"
      },
      "source": [
        "## 0.3 Authentication\n",
        "\n",
        "Next, we'll permission the application to submit authorised API requests on our behalf using OAuth authentication.\n",
        "\n",
        "The following scopes are specified in an array:\n",
        "* [DBM API](https://developers.google.com/bid-manager/how-tos/authorizing)\n",
        "* [Display Video API](https://developers.google.com/display-video/api/guides/how-tos/authorizing)\n",
        "* [GCP Storage Read](https://cloud.google.com/storage/docs/authentication)\n",
        "* [Cloud Vision API](https://cloud.google.com/vision/docs/auth)\n",
        "\n",
        "Reference:\n",
        "* [Example OAuth2 Python Library](https://developers.google.com/api-client-library/python/auth/web-app#example)\n",
        "* [Google scopes](https://developers.google.com/identity/protocols/googlescopes)\n",
        "\n"
      ]
    },
    {
      "cell_type": "code",
      "metadata": {
        "id": "9Rw3r-ijKBs_"
      },
      "source": [
        "API_SCOPES = ['https://www.googleapis.com/auth/doubleclickbidmanager',\n",
        "              'https://www.googleapis.com/auth/display-video',\n",
        "              'https://www.googleapis.com/auth/devstorage.read_only',\n",
        "              'https://www.googleapis.com/auth/cloud-vision']\n",
        "\n",
        "# Authenticate using user credentials stored in client_secrets.json\n",
        "client_secrets_file = files.upload()\n",
        "client_secrets_json = json.loads(next(iter(client_secrets_file.values())))\n",
        "\n",
        "flow = InstalledAppFlow.from_client_config(client_secrets_json, API_SCOPES)\n",
        "credentials = flow.run_console()\n",
        "print('Success!')\n",
        "\n",
        "# Build DBM Read API service object\n",
        "dbm_service = discovery.build(\n",
        "    'doubleclickbidmanager', 'v1.1', credentials=credentials)\n",
        "print('DBM API service object created')\n",
        "\n",
        "# Build Google Cloud Storage Read API service object\n",
        "gcs_service = discovery.build('storage', 'v1', credentials=credentials)\n",
        "print('GCS service object created')\n",
        "\n",
        "# Create Display Video API service object\n",
        "display_video_service = discovery.build(\n",
        "    'displayvideo', 'v1', credentials=credentials)\n",
        "\n",
        "print('Display Video API service object created')"
      ],
      "execution_count": null,
      "outputs": []
    },
    {
      "cell_type": "markdown",
      "metadata": {
        "id": "cWj6pqFUpt0w"
      },
      "source": [
        "## 0.4 Set DV360 account settings"
      ]
    },
    {
      "cell_type": "markdown",
      "metadata": {
        "id": "k0K6yTfovoAY"
      },
      "source": [
        "Next, we need to set our DV360 parameters, and generate a sandbox (test) campaign.\n",
        "\n",
        "Note, if you'd prefer to use an existing campaign, update CAMPAIGN_ID below."
      ]
    },
    {
      "cell_type": "code",
      "metadata": {
        "id": "N5Inh0JrwLuX",
        "cellView": "form"
      },
      "source": [
        "PARTNER_ID = '234340'  #@param {type:\"string\"}\n",
        "ADVERTISER_ID = '2436036'  #@param {type:\"string\"}\n",
        "CAMPAIGN_ID = '4258803'  #@param {type:\"string\"}\n",
        "\n",
        "# For use with legacy DBM API\n",
        "SDF_VERSION = '5.3'  #@param {type:\"string\"}\n",
        "\n",
        "# For use with DV360 API\n",
        "SDF_VERSION_DV360 = 'SDF_VERSION_5_3'  #@param {type:\"string\"}\n",
        "\n",
        "print('DV360 settings saved!')"
      ],
      "execution_count": null,
      "outputs": []
    },
    {
      "cell_type": "markdown",
      "metadata": {
        "id": "9ajx6SBWweh3"
      },
      "source": [
        "**Create a new 'sandbox' campaign to use with the rest of the exercises**\n",
        "\n",
        "Executing the following code block will overwrite any CAMPAIGN_ID used above."
      ]
    },
    {
      "cell_type": "code",
      "metadata": {
        "id": "S3zwMWIQv7pl",
        "cellView": "form"
      },
      "source": [
        "YOUR_NAME = 'Matt'  #@param {type:\"string\"}\n",
        "\n",
        "# Set dates for new campaign\n",
        "month = datetime.datetime.today().strftime('%m')\n",
        "day = datetime.datetime.today().strftime('%d')\n",
        "year = datetime.datetime.today().strftime('%Y')\n",
        "month_plus30 = (datetime.datetime.today() +\n",
        "                datetime.timedelta(days=30)).strftime('%m')\n",
        "day_plus30 = (datetime.datetime.today() +\n",
        "              datetime.timedelta(days=30)).strftime('%d')\n",
        "year_plus30 = (datetime.datetime.today() +\n",
        "               datetime.timedelta(days=30)).strftime('%Y')\n",
        "\n",
        "\n",
        "def create_campaign(YOUR_NAME):\n",
        "  \"\"\"Creates a new DV360 Campaign object.\"\"\"\n",
        "\n",
        "  campaign_name = f'{year}-{month}-{day} | {YOUR_NAME}'\n",
        "  campaign_obj = {\n",
        "      'displayName': campaign_name,\n",
        "      'entityStatus': 'ENTITY_STATUS_ACTIVE',\n",
        "      'campaignGoal': {\n",
        "          'campaignGoalType': 'CAMPAIGN_GOAL_TYPE_ONLINE_ACTION',\n",
        "          'performanceGoal': {\n",
        "              'performanceGoalType': 'PERFORMANCE_GOAL_TYPE_CPC',\n",
        "              'performanceGoalAmountMicros': 1000000\n",
        "          }\n",
        "      },\n",
        "      'campaignFlight': {\n",
        "          'plannedSpendAmountMicros': 1000000,\n",
        "          'plannedDates': {\n",
        "              'startDate': {\n",
        "                  'year': year,\n",
        "                  'month': month,\n",
        "                  'day': day\n",
        "              },\n",
        "              'endDate': {\n",
        "                  'year': year_plus30,\n",
        "                  'month': month_plus30,\n",
        "                  'day': day_plus30\n",
        "              }\n",
        "          }\n",
        "      },\n",
        "      'frequencyCap': {\n",
        "          'maxImpressions': 10,\n",
        "          'timeUnit': 'TIME_UNIT_DAYS',\n",
        "          'timeUnitCount': 1\n",
        "      }\n",
        "  }\n",
        "\n",
        "  # Create the campaign.\n",
        "  campaign = display_video_service.advertisers().campaigns().create(\n",
        "      advertiserId=ADVERTISER_ID,\n",
        "      body=campaign_obj\n",
        "      ).execute()\n",
        "\n",
        "  return campaign\n",
        "\n",
        "new_campaign = create_campaign(YOUR_NAME)\n",
        "\n",
        "# Display the new campaign.\n",
        "CAMPAIGN_ID = new_campaign['campaignId']\n",
        "print(f\"\\nCampaign '{new_campaign['name']}' was created.\"\n",
        "      f\"\\nCampaign id: '{new_campaign['campaignId']}'\"\n",
        "      f\"\\nCampaign name: '{new_campaign['displayName']}'\"\n",
        "      f\"\\nCampaign status: '{new_campaign['entityStatus']}'\")"
      ],
      "execution_count": null,
      "outputs": []
    },
    {
      "cell_type": "markdown",
      "metadata": {
        "id": "rvbhSbEqIkvz"
      },
      "source": [
        "# 1**A**) SDF using DBM API (sunset)"
      ]
    },
    {
      "cell_type": "markdown",
      "metadata": {
        "id": "gRBmSMnPBB0p"
      },
      "source": [
        "**Important**: the SDF resource (sdf.download) for the DBM API has migrated to a new endpoint (displayvideo.googleapis.com). SDF methods using this (doubleclickbidmanager.googleapis.com) endpoint have been [sunset](https://developers.google.com/bid-manager/release-notes), and will not be updated moving forward.\n",
        "\n",
        "**Please follow track 1B, for code samples using the DV360 API.**"
      ]
    },
    {
      "cell_type": "markdown",
      "metadata": {
        "id": "KqkQ32KWmH8T"
      },
      "source": [
        "Reference: https://developers.google.com/bid-manager/v1.1/sdf\n",
        "\n",
        "Structured Data Files (SDF) are a way of using spreadsheets to make bulk changes to DV360 entities, including Campaigns, Insertion Orders, Line Items, TrueView Ad Groups, TrueView Ads and deals. SDF are the first step on the path to full automation in DV360, but only allow you to automate so far, as we'll explore now..."
      ]
    },
    {
      "cell_type": "markdown",
      "metadata": {
        "id": "k5XefbfWnZ_e"
      },
      "source": [
        "## 1.1 Manually create SDF"
      ]
    },
    {
      "cell_type": "markdown",
      "metadata": {
        "id": "B36X1Stqp_AR"
      },
      "source": [
        "1.   Create a copy of the [Google Store product feed](https://docs.google.com/spreadsheets/d/1Z-hL3KY9ynmajME6kW3QYbiFqmlg9BFvdRqEYy3Rvs4/copy)\n",
        "2.   Update the highlighted cells (B2:B3) on the tab called \"sdf_insertionorders\"\n",
        "3. Save the updated \"**sdf_insertionorders**\" tab and \"**sdf_lineitems**\" tab to .CSV (File >> Download >> CSV)\n",
        "3.   Upload the two .CSV files together in the [DV360 UI](https://displayvideo.google.com/)\n",
        "\n",
        "This will create a very basic campaign, with 2 insertion orders, and 10 lineitems per insertion order."
      ]
    },
    {
      "cell_type": "markdown",
      "metadata": {
        "id": "i7uq5m32nMAU"
      },
      "source": [
        "## 1.2 Editing SDF programmatically"
      ]
    },
    {
      "cell_type": "markdown",
      "metadata": {
        "id": "I7rzAYIncWRx"
      },
      "source": [
        "Our new LineItems are missing some important targeting and inventory controls:\n",
        "* Channels (e.g. groups of publisher URLs)\n",
        "* Inventory source\n",
        "* Brand safety\n",
        "* Geo targeting\n",
        "\n",
        "Let’s use software to make these changes for us..."
      ]
    },
    {
      "cell_type": "code",
      "metadata": {
        "id": "HSuqlMTNIYxs"
      },
      "source": [
        "# Configure the sdf.download request\n",
        "request_body = {\n",
        "    'fileTypes': ['LINE_ITEM'],\n",
        "    'filterType': 'CAMPAIGN_ID',\n",
        "    'filterIds': [CAMPAIGN_ID],\n",
        "    'version': SDF_VERSION\n",
        "}\n",
        "\n",
        "# Make the request to download all SDF LineItems for your new campaign\n",
        "request = dbm_service.sdf().download(body=request_body)\n",
        "response = request.execute()\n",
        "\n",
        "# Load SDF response to Pandas DataFrame\n",
        "sdf_df = pd.read_csv(io.StringIO(response['lineItems']))\n",
        "\n",
        "# Show sample (5 rows) of DataFrame\n",
        "sdf_df.head()"
      ],
      "execution_count": null,
      "outputs": []
    },
    {
      "cell_type": "markdown",
      "metadata": {
        "id": "JU7gy0kxceCH"
      },
      "source": [
        "Define a boilerplate targeting template that all Line Items should adhere too"
      ]
    },
    {
      "cell_type": "code",
      "metadata": {
        "id": "KWzYviqecdGo"
      },
      "source": [
        "targeting_template = {\n",
        "    'Channel Targeting - Include':\n",
        "        '2580510;',\n",
        "    'Channel Targeting - Exclude':\n",
        "        '2580509;',\n",
        "    'Inventory Source Targeting - Include':\n",
        "        '1;',\n",
        "    'Inventory Source Targeting - Exclude':\n",
        "        '6; 8; 9; 10; 2; 11; 12; 13; 16; 20; 23; 27; 29; 30; 31; 34; 35; 36; '\n",
        "        '38; 43; 46; 50; 51; 56; 60; 63; 67; 74;',\n",
        "    'Digital Content Labels - Exclude':\n",
        "        'G; PG; T;',\n",
        "    'Brand Safety Sensitivity Setting':\n",
        "        'Use custom',\n",
        "    'Brand Safety Custom Settings':\n",
        "        'Adult; Alcohol; Derogatory; Downloads & Sharing; Drugs; Gambling; '\n",
        "        'Politics; Profanity; Religion; Sensitive social issues; Suggestive; '\n",
        "        'Tobacco; Tragedy; Transportation Accidents; Violence; Weapons;'\n",
        "}"
      ],
      "execution_count": null,
      "outputs": []
    },
    {
      "cell_type": "markdown",
      "metadata": {
        "id": "BBnq6nyic0I0"
      },
      "source": [
        "Modify latest SDF LineItems file and update the columns according to the targeting template"
      ]
    },
    {
      "cell_type": "code",
      "metadata": {
        "id": "VEcwGXl3aglI"
      },
      "source": [
        "# Overwrite targeting columns using 'targeting_template'\n",
        "sdf_df['Channel Targeting - Include'] = targeting_template[\n",
        "    'Channel Targeting - Include']\n",
        "sdf_df['Channel Targeting - Exclude'] = targeting_template[\n",
        "    'Channel Targeting - Exclude']\n",
        "sdf_df['Inventory Source Targeting - Include'] = targeting_template[\n",
        "    'Inventory Source Targeting - Include']\n",
        "sdf_df['Inventory Source Targeting - Exclude'] = targeting_template[\n",
        "    'Inventory Source Targeting - Exclude']\n",
        "sdf_df['Digital Content Labels - Exclude'] = targeting_template[\n",
        "    'Digital Content Labels - Exclude']\n",
        "sdf_df['Brand Safety Sensitivity Setting'] = targeting_template[\n",
        "    'Brand Safety Sensitivity Setting']\n",
        "sdf_df['Brand Safety Custom Settings'] = targeting_template[\n",
        "    'Brand Safety Custom Settings']\n",
        "\n",
        "# Save modified dataframe to remote storage in Colab\n",
        "sdf_df.to_csv('sdf_update1_controls.csv', index=False)\n",
        "\n",
        "# Show sample (5 rows) of DataFrame\n",
        "sdf_df.head()"
      ],
      "execution_count": null,
      "outputs": []
    },
    {
      "cell_type": "code",
      "metadata": {
        "id": "zkAUGWXBC9RD"
      },
      "source": [
        "# Download modified csv to local storage\n",
        "files.download('sdf_update1_controls.csv')\n",
        "\n",
        "print(\n",
        "    \"Success, check your downloads for a file called 'sdf_update1_controls.csv'\"\n",
        ")"
      ],
      "execution_count": null,
      "outputs": []
    },
    {
      "cell_type": "markdown",
      "metadata": {
        "id": "Ppq8TCiUj3Re"
      },
      "source": [
        "Upload the output .csv file in the [DV360 UI](https://displayvideo.google.com/)\n",
        "\n",
        "Once the changes have been applied successfully, check the 'Targeting' controls within 'Line Item details'"
      ]
    },
    {
      "cell_type": "markdown",
      "metadata": {
        "id": "V6AoRF2qXZDX"
      },
      "source": [
        "## 1.3 SDF + Entity Read Files\n",
        "\n",
        "**What are Entity Read Files (ERFs)?** ERFs are flat files (.JSON) in Google Cloud Storage that contain lookup values for DV360 entities like geographies, creatives, etc. Each DV360 entity (Advertiser, Campaign, LineItem, etc) has a corresponding .JSON file in Cloud Storage retained free-of-charge for 60 days from their processing date.\n",
        "\n",
        "ERFs consist of 1 file per entity type, written x1 per day to two seperate Cloud buckets: \n",
        "\n",
        "1.   **[Public](https://developers.google.com/bid-manager/guides/entity-read/overview#public-tables)** (10 .JSON files) - contain common public data such as GeoLocation and Language which are stored in the gdbm-public bucket (the same bucket for every DV360 user).\n",
        "2.   **[Private](https://developers.google.com/bid-manager/guides/entity-read/overview#private-tables)** (13 .JSON files) - contain information about the DV360 Partner's campaigns, creatives, budgets and other private data and are stored in Partner-specific buckets (restricted to specific users)\n",
        "\n",
        "Reference: https://developers.google.com/bid-manager/guides/entity-read/overview\n",
        "\n",
        "ERFs can be used to speed up, and automate, the creation of SDF files.\n",
        "\n",
        "Let's explore this now..."
      ]
    },
    {
      "cell_type": "markdown",
      "metadata": {
        "id": "2FU9srN57G1a"
      },
      "source": [
        "Download yesterday's GeoLocation.json from [public ERF bucket](https://console.cloud.google.com/storage/browser/gdbm-public/entity/) using Google Cloud Storage API"
      ]
    },
    {
      "cell_type": "code",
      "metadata": {
        "id": "5JUHJBajXT_E"
      },
      "source": [
        "# Actually today-7 to avoid issues with collection\n",
        "yesterday = datetime.date.today() - datetime.timedelta(7)\n",
        "\n",
        "# Download public ERF for geolocation info\n",
        "request = gcs_service.objects().get_media(\n",
        "    bucket='gdbm-public',\n",
        "    object='entity/' + yesterday.strftime('%Y%m%d') + '.0.GeoLocation.json')\n",
        "\n",
        "response = request.execute()\n",
        "geolocations = json.loads(response)\n",
        "\n",
        "print('GeoLocation.json successfully downloaded \\n')\n",
        "print(\"Here's a random sample of 5 entries:\\n\")\n",
        "pprint.pprint(geolocations[0:5])"
      ],
      "execution_count": null,
      "outputs": []
    },
    {
      "cell_type": "markdown",
      "metadata": {
        "id": "_-eQF4OWmjFi"
      },
      "source": [
        "Retrieve a list of country codes / IDs from GeoLocation.json for each of our store locations"
      ]
    },
    {
      "cell_type": "code",
      "metadata": {
        "id": "Q-83_ZFZZE36"
      },
      "source": [
        "# Provide a list of store locations\n",
        "store_locations = ['United Kingdom', 'France', 'Spain', 'Germany', 'Portugal']\n",
        "\n",
        "# Create a new dictionary to save the country code and ID later on\n",
        "geo_targeting_ids = {}\n",
        "\n",
        "# Note: GeoLocation.json is over 800,000 lines\n",
        "for location in geolocations:\n",
        "  if location['canonical_name'] in store_locations:\n",
        "    geo_targeting_ids[location['country_code']] = location['id']\n",
        "    print(location)\n",
        "\n",
        "print(geo_targeting_ids)"
      ],
      "execution_count": null,
      "outputs": []
    },
    {
      "cell_type": "markdown",
      "metadata": {
        "id": "RpwP14QNfLZJ"
      },
      "source": [
        "Download the latest SDF LineItems (because we've made changes since our last download)"
      ]
    },
    {
      "cell_type": "code",
      "metadata": {
        "id": "KveWvKKbmAxC"
      },
      "source": [
        "# Configure the sdf.download request\n",
        "request_body = {\n",
        "    'fileTypes': ['LINE_ITEM'],\n",
        "    'filterType': 'CAMPAIGN_ID',\n",
        "    'filterIds': [CAMPAIGN_ID],\n",
        "    'version': SDF_VERSION\n",
        "}\n",
        "\n",
        "# Make the request to download all SDF LineItems for your new campaign\n",
        "request = dbm_service.sdf().download(body=request_body)\n",
        "response = request.execute()\n",
        "\n",
        "# Load SDF response to Pandas DataFrame\n",
        "sdf_df = pd.read_csv(io.StringIO(response['lineItems']))\n",
        "\n",
        "# Show sample (5 rows) of DataFrame\n",
        "sdf_df.head()"
      ],
      "execution_count": null,
      "outputs": []
    },
    {
      "cell_type": "markdown",
      "metadata": {
        "id": "nYRZX4sv9XX3"
      },
      "source": [
        "Modify the contents of the latest SDF output, then save a new CSV with updated Geo Targeting IDs"
      ]
    },
    {
      "cell_type": "code",
      "metadata": {
        "id": "Kv18CgWm79WH"
      },
      "source": [
        "for country in geo_targeting_ids:\n",
        "  target_country = geo_targeting_ids[country]\n",
        "  sdf_df.loc[sdf_df.Name.str.contains(country),\n",
        "             'Geography Targeting - Include'] = f'{target_country};'\n",
        "\n",
        "# Save modified dataframe to remote storage in Colab\n",
        "sdf_df.to_csv('sdf_update2_geo.csv', index=False)\n",
        "\n",
        "# Display updated DataFrame\n",
        "sdf_df.head()"
      ],
      "execution_count": null,
      "outputs": []
    },
    {
      "cell_type": "code",
      "metadata": {
        "id": "VIyiy_8yDpML"
      },
      "source": [
        "# Download modified csv to local storage\n",
        "files.download('sdf_update2_geo.csv')\n",
        "\n",
        "print(\"Success, look for a file called 'sdf_update2_geo.csv' in your downloads folder\")"
      ],
      "execution_count": null,
      "outputs": []
    },
    {
      "cell_type": "markdown",
      "metadata": {
        "id": "QPPaW8pw7vjU"
      },
      "source": [
        "Upload the output .csv file in the [DV360 UI](https://displayvideo.google.com/)\n",
        "\n",
        "Once the changes have been applied successfully, check the 'Targeting' controls within 'Line Item details'"
      ]
    },
    {
      "cell_type": "markdown",
      "metadata": {
        "id": "hwgK-0aOoRBt"
      },
      "source": [
        "## 1.4 SDF + Cloud Vision API"
      ]
    },
    {
      "cell_type": "markdown",
      "metadata": {
        "id": "e2LE4Ovu8O4N"
      },
      "source": [
        "Next, let's look at how we you can utilise external APIs.\n",
        "\n",
        "1.   Download the '[product_feed](https://docs.google.com/spreadsheets/d/1Z-hL3KY9ynmajME6kW3QYbiFqmlg9BFvdRqEYy3Rvs4/edit#gid=0)' tab from Google Store as CSV (File >> Download >> CSV)\n",
        "2.   Execute the following code block and upload '**product_feed.csv**'\n",
        "3.   This will create a new Python dictionary (key:value pairing), mapping SKUs with their image link\n",
        "\n",
        "**Warning: Cloud Vision API is paid product, utilising the following example in your own Cloud project will incur costs.**\n",
        "\n",
        "Try out the Cloud Vision API for free at [cloud.google.com/vision](https://cloud.google.com/vision/)"
      ]
    },
    {
      "cell_type": "code",
      "metadata": {
        "id": "ldOZQ_ZqXqRO"
      },
      "source": [
        "# Upload product feed using Colab's upload utility\n",
        "product_feed_csv = files.upload()\n",
        "\n",
        "contents = next(iter(product_feed_csv.values())).decode('utf-8')\n",
        "products = csv.DictReader(io.StringIO(contents))\n",
        "\n",
        "image_url_list = {}\n",
        "\n",
        "# Iterate through each row and update dict() with sku:link\n",
        "for row in products:\n",
        "  image_url_list[row['sku']] = row['image_link']\n",
        "\n",
        "pprint.pprint(image_url_list)"
      ],
      "execution_count": null,
      "outputs": []
    },
    {
      "cell_type": "markdown",
      "metadata": {
        "id": "mNjm7kU4W6oI"
      },
      "source": [
        "Define a function to send images to the Cloud Vision API"
      ]
    },
    {
      "cell_type": "code",
      "metadata": {
        "id": "KNkhcjpOW5lD"
      },
      "source": [
        "def vision_analysis(image_url):\n",
        "  \"\"\"Process images using the Cloud Vision API.\"\"\"\n",
        "\n",
        "  # Assign image URL\n",
        "  image = vision.Image()\n",
        "  image.source.image_uri = image_url\n",
        "\n",
        "  # Instantiates a Vision client\n",
        "  client = vision.ImageAnnotatorClient(credentials=credentials)\n",
        "\n",
        "  # Performs label detection on the image file\n",
        "  vision_response = client.label_detection(image=image)\n",
        "\n",
        "  dv360_targeting_keywords = []\n",
        "  labels = []\n",
        "\n",
        "  for label in vision_response.label_annotations:\n",
        "    dv360_targeting_keywords.append(label.description)\n",
        "    label = f'{label.description} ({label.score:.2%})'\n",
        "    labels.append(label)\n",
        "\n",
        "  return dv360_targeting_keywords, labels"
      ],
      "execution_count": null,
      "outputs": []
    },
    {
      "cell_type": "markdown",
      "metadata": {
        "id": "2UsWhANfXCRj"
      },
      "source": [
        "Run our images through the function, and return a lookup table"
      ]
    },
    {
      "cell_type": "code",
      "metadata": {
        "id": "bgTm5NZINzmU"
      },
      "source": [
        "imageslookup = {}\n",
        "\n",
        "for sku, url in image_url_list.items():\n",
        "  imageslookup[sku], vision_labels = vision_analysis(url)\n",
        "  print(f'Analysis completed for: {url}')\n",
        "  print('Labels (confidence score):')\n",
        "  pprint.pprint(vision_labels, indent=4)\n",
        "  print('=' * 30)\n",
        "\n",
        "print('\\n\\nLookup table:')\n",
        "pprint.pprint(imageslookup, indent=4)"
      ],
      "execution_count": null,
      "outputs": []
    },
    {
      "cell_type": "markdown",
      "metadata": {
        "id": "ykTWQbBmvcep"
      },
      "source": [
        "Now we have our new labels from the Vision API, we need to write these into the keywords targeting field"
      ]
    },
    {
      "cell_type": "code",
      "metadata": {
        "id": "C7IhSHjoTtjG"
      },
      "source": [
        "# Configure the sdf.download request\n",
        "request_body = {\n",
        "    'fileTypes': ['LINE_ITEM'],\n",
        "    'filterType': 'CAMPAIGN_ID',\n",
        "    'filterIds': [CAMPAIGN_ID],\n",
        "    'version': SDF_VERSION\n",
        "}\n",
        "\n",
        "request = dbm_service.sdf().download(body=request_body)\n",
        "response = request.execute()\n",
        "\n",
        "# Load SDF response to Pandas DataFrame\n",
        "sdf_df = pd.read_csv(io.StringIO(response['lineItems']))\n",
        "\n",
        "for product in imageslookup:\n",
        "  sdf_df.loc[sdf_df.Name.str.contains(product),\n",
        "             'Keyword Targeting - Include'] = ';'.join(\n",
        "                 imageslookup[product]).lower()\n",
        "\n",
        "# Save modified dataframe to remote storage in Colab\n",
        "sdf_df.to_csv('sdf_update3_keywords.csv', index=False)\n",
        "\n",
        "# Show sample (5 rows) of DataFrame\n",
        "sdf_df.head()"
      ],
      "execution_count": null,
      "outputs": []
    },
    {
      "cell_type": "code",
      "metadata": {
        "id": "zRGmf195EX6S"
      },
      "source": [
        "# Download modified csv to local storage\n",
        "files.download('sdf_update3_keywords.csv')\n",
        "\n",
        "print(\"Success, look for the file called 'sdf_update3_keywords.csv' in your downloads folder\")"
      ],
      "execution_count": null,
      "outputs": []
    },
    {
      "cell_type": "markdown",
      "metadata": {
        "id": "jcEp8PQxjfqL"
      },
      "source": [
        "Upload the output .csv file in the [DV360 UI](https://displayvideo.google.com/)\n",
        "\n",
        "Once the changes have been applied successfully, check the 'Targeting' controls within 'Line Item details'"
      ]
    },
    {
      "cell_type": "markdown",
      "metadata": {
        "id": "te8f1dfnguwP"
      },
      "source": [
        "## 1.5 Optimisation using Reports"
      ]
    },
    {
      "cell_type": "markdown",
      "metadata": {
        "id": "_ZgDBsFrpR5e"
      },
      "source": [
        "Next, we'll look at how you could combine reporting data, with operations such as optimising bid multipliers or deactivating activity. **Note: your new campaign has no performance history, so we'll use an existing campaign for this exercise.**"
      ]
    },
    {
      "cell_type": "code",
      "metadata": {
        "id": "PI88YAdY4X0L"
      },
      "source": [
        "# Define DV360 report definition (i.e. metrics and filters)\n",
        "report_definition = {\n",
        "    'params': {\n",
        "        'type': 'TYPE_GENERAL',\n",
        "        'metrics': [\n",
        "            'METRIC_IMPRESSIONS', 'METRIC_CLICKS', 'METRIC_CTR',\n",
        "            'METRIC_REVENUE_ADVERTISER'\n",
        "        ],\n",
        "        'groupBys': [\n",
        "            'FILTER_ADVERTISER', 'FILTER_INSERTION_ORDER', 'FILTER_LINE_ITEM',\n",
        "            'FILTER_ADVERTISER_CURRENCY'\n",
        "        ],\n",
        "        'filters': [{\n",
        "            'type': 'FILTER_ADVERTISER',\n",
        "            'value': ADVERTISER_ID\n",
        "        }],\n",
        "    },\n",
        "    'metadata': {\n",
        "        'title': 'DV360 Automation API-generated report',\n",
        "        'dataRange': 'LAST_90_DAYS',\n",
        "        'format': 'csv'\n",
        "    },\n",
        "    'schedule': {\n",
        "        'frequency': 'ONE_TIME'\n",
        "    }\n",
        "}\n",
        "\n",
        "# Create new query using report definition\n",
        "operation = dbm_service.queries().createquery(body=report_definition).execute()\n",
        "pprint.pprint(operation)\n",
        "\n",
        "\n",
        "# Runs the given Queries.getquery request, retrying with an exponential\n",
        "# backoff. Returns completed operation. Will raise an exception if the\n",
        "# operation takes more than five hours to complete.\n",
        "@retry.Retry(\n",
        "    predicate=retry.if_exception_type(Exception),\n",
        "    initial=5,\n",
        "    maximum=60,\n",
        "    deadline=18000)\n",
        "def check_get_query_completion(getquery_request):\n",
        "  \"\"\"Queries metadata to check for completion.\"\"\"\n",
        "  completion_response = getquery_request.execute()\n",
        "  pprint.pprint(completion_response)\n",
        "  if completion_response['metadata']['running']:\n",
        "    raise Exception('The operation has not completed.')\n",
        "  return completion_response\n",
        "\n",
        "getquery_request = dbm_service.queries().getquery(queryId=operation['queryId'])\n",
        "getquery_response = check_get_query_completion(getquery_request)"
      ],
      "execution_count": null,
      "outputs": []
    },
    {
      "cell_type": "code",
      "metadata": {
        "id": "pWo5y2q5oL2O"
      },
      "source": [
        "report_url = getquery_response['metadata'][\n",
        "    'googleCloudStoragePathForLatestReport']\n",
        "\n",
        "# Use skipfooter to remove report footer from data\n",
        "report_df = pd.read_csv(report_url, skipfooter=16, engine='python')\n",
        "report_df.head(10)"
      ],
      "execution_count": null,
      "outputs": []
    },
    {
      "cell_type": "code",
      "metadata": {
        "id": "iNhekXWm_fI1"
      },
      "source": [
        "# Define our 'KPIs'\n",
        "ctr_target = 0.15\n",
        "imp_threshold = 10000\n",
        "\n",
        "# Convert IDs to remove decimal point, then string\n",
        "report_df['Line Item ID'] = report_df['Line Item ID'].apply(int)\n",
        "poor_performers = report_df.query(\n",
        "    'Impressions > @imp_threshold & (Clicks / Impressions)*100 < @ctr_target')\n",
        "\n",
        "# Convert results to Python list\n",
        "poor_performers = list(poor_performers['Line Item ID'])\n",
        "\n",
        "print(f'There are {len(poor_performers)} LineItems with a CTR'\n",
        "      f' < {ctr_target}% and over {imp_threshold} impressions:'\n",
        "      f'\\n{poor_performers}')"
      ],
      "execution_count": null,
      "outputs": []
    },
    {
      "cell_type": "markdown",
      "metadata": {
        "id": "O7yB9RGqwh7G"
      },
      "source": [
        "Download an updated SDF LineItems file, and if the LineItem ID is in the poor performers list, add a **Geo bid multiplier to half the bids (0.5)**"
      ]
    },
    {
      "cell_type": "code",
      "metadata": {
        "id": "Q27InRnPg0Ux"
      },
      "source": [
        "# Configure the sdf.download request\n",
        "request_body = {\n",
        "    'fileTypes': ['LINE_ITEM'],\n",
        "    'filterType': 'CAMPAIGN_ID',\n",
        "    'filterIds': ['1914007'],\n",
        "    'version': SDF_VERSION\n",
        "}\n",
        "\n",
        "request = dbm_service.sdf().download(body=request_body)\n",
        "response = request.execute()\n",
        "\n",
        "# Load SDF response to Pandas DataFrame\n",
        "sdf_df = pd.read_csv(io.StringIO(response['lineItems']))\n",
        "\n",
        "for li in poor_performers:\n",
        "  geo = sdf_df.loc[sdf_df['Line Item Id'] == li,\n",
        "                   'Geography Targeting - Include'].iloc[0]\n",
        "  sdf_df.loc[sdf_df['Line Item Id'] == li,\n",
        "             'Bid Multipliers'] = f'(geo; {geo} 0.5;);'\n",
        "\n",
        "# Save modified dataframe to remote storage in Colab\n",
        "sdf_df.to_csv('sdf_update4_bidmultipliers.csv', index=False)\n",
        "\n",
        "# Display updated DataFrame\n",
        "sdf_df.head()"
      ],
      "execution_count": null,
      "outputs": []
    },
    {
      "cell_type": "code",
      "metadata": {
        "id": "3CtCZFnclCjF"
      },
      "source": [
        "files.download('sdf_update4_bidmultipliers.csv')\n",
        "\n",
        "print('Success, your new SDF file has been downloaded')"
      ],
      "execution_count": null,
      "outputs": []
    },
    {
      "cell_type": "markdown",
      "metadata": {
        "id": "yCedNSYNxBmo"
      },
      "source": [
        "Note the only rows included in the output, are those that we want to modify.\n",
        "\n",
        "Upload the output .csv file in the [DV360 UI](https://displayvideo.google.com/)\n",
        "\n",
        "Once the changes have been applied successfully, check the 'Targeting' controls within 'Line Item details'"
      ]
    },
    {
      "cell_type": "markdown",
      "metadata": {
        "id": "ZKxO-essKw2X"
      },
      "source": [
        "## 1.6 Challenge"
      ]
    },
    {
      "cell_type": "markdown",
      "metadata": {
        "id": "IdqS3dt5bEkG"
      },
      "source": [
        "**Challenge: update your campaign with both language and audience targeting.**\n",
        "\n",
        "* All Lineitems should target the following Google audiences\n",
        "\n",
        " * Affinity Categories » Technology » Mobile Enthusiasts\n",
        " * Affinity Categories » Technology » Technophiles » High-End Computer Aficionado\n",
        " * In-Market Categories » Consumer Electronics\n",
        "\n",
        "* LineItems for France, should be targeted at French speakers\n",
        "* LineItems for Great Britain, should be targeted at English speakers\n",
        "\n",
        "**Tips**\n",
        "\n",
        "* Google Audience IDs can be found in the DV360 UI or by downloading an SDF with an existing audience applied\n",
        "* Language IDs can be found in the Language.json ERF file or by downloading an SDF with the language already applied"
      ]
    },
    {
      "cell_type": "code",
      "metadata": {
        "id": "sojF69yu_lep"
      },
      "source": [
        "#TODO"
      ],
      "execution_count": null,
      "outputs": []
    },
    {
      "cell_type": "markdown",
      "metadata": {
        "id": "6pKHsIyz_I0h"
      },
      "source": [
        "**Solution**"
      ]
    },
    {
      "cell_type": "code",
      "metadata": {
        "id": "Etn7jthhcZbd"
      },
      "source": [
        "# Format today-2 in required date format\n",
        "yesterday = (datetime.date.today() - datetime.timedelta(2)).strftime('%Y%m%d')\n",
        "\n",
        "# Download ERF for Language.json from public GCS bucket\n",
        "request = gcs_service.objects().get_media(\n",
        "    bucket='gdbm-public', object='entity/' + yesterday + '.0.Language.json')\n",
        "\n",
        "response = request.execute()\n",
        "languages = json.loads(response)\n",
        "\n",
        "language_targets = ['en', 'fr']\n",
        "lang_targeting_ids = {}\n",
        "\n",
        "# Search language.json for language targets 'en' and 'fr'\n",
        "for lang in languages:\n",
        "  if lang['code'] in language_targets:\n",
        "    lang_targeting_ids[lang['code']] = lang['id']\n",
        "    print(lang)\n",
        "\n",
        "print(lang_targeting_ids)\n",
        "\n",
        "# Define targeting template\n",
        "targeting_template = {\n",
        "    'Affinity & In Market Targeting - Include': '4569529;4586809;4497529;',\n",
        "}\n",
        "\n",
        "# Configure the sdf.download request\n",
        "request_body = {\n",
        "    'fileTypes': ['LINE_ITEM'],\n",
        "    'filterType': 'CAMPAIGN_ID',\n",
        "    'filterIds': [CAMPAIGN_ID],\n",
        "    'version': SDF_VERSION\n",
        "}\n",
        "\n",
        "request = dbm_service.sdf().download(body=request_body)\n",
        "response = request.execute()\n",
        "\n",
        "# Load SDF response to Pandas DataFrame\n",
        "sdf_df = pd.read_csv(io.StringIO(response['lineItems']))\n",
        "\n",
        "# Update DataFrame with Language and Audience targeting\n",
        "sdf_df.loc[sdf_df.Name.str.contains('GB'),\n",
        "           'Language Targeting - Include'] = f\"{lang_targeting_ids['en']};\"\n",
        "sdf_df.loc[sdf_df.Name.str.contains('FR'),\n",
        "           'Language Targeting - Include'] = f\"{lang_targeting_ids['fr']};\"\n",
        "sdf_df['Affinity & In Market Targeting - Include'] = targeting_template[\n",
        "    'Affinity & In Market Targeting - Include']\n",
        "\n",
        "# Save modified dataframe to remote storage in Colab\n",
        "sdf_df.to_csv('sdf_update5_challenge.csv', index=False)\n",
        "\n",
        "# Display updated DataFrame\n",
        "sdf_df.head()"
      ],
      "execution_count": null,
      "outputs": []
    },
    {
      "cell_type": "code",
      "metadata": {
        "id": "DCDckj4GEkUa"
      },
      "source": [
        "# Download file to disk using Colab syntax\n",
        "files.download('sdf_update5_challenge.csv')\n",
        "\n",
        "print(\"Success, check your downloads for a file called 'sdf_update5_challenge.csv'\")"
      ],
      "execution_count": null,
      "outputs": []
    },
    {
      "cell_type": "markdown",
      "metadata": {
        "id": "uPUEEyfTv4k8"
      },
      "source": [
        "Upload the output .csv file in the [DV360 UI](https://displayvideo.google.com/)"
      ]
    },
    {
      "cell_type": "markdown",
      "metadata": {
        "id": "gtB1gFw57vVj"
      },
      "source": [
        "# 1**B**) SDF using DV360 API"
      ]
    },
    {
      "cell_type": "markdown",
      "metadata": {
        "id": "ObFT1NV8nNci"
      },
      "source": [
        "Reference: https://developers.google.com/display-video/api/reference/rest/v1/sdfdownloadtasks/create\n",
        "\n",
        "Structured Data Files (SDF) are a way of using spreadsheets to make bulk changes to DV360 entities, including Campaigns, Insertion Orders, Line Items, TrueView Ad Groups, TrueView Ads and deals. SDF are the first step on the path to full automation in DV360, but only allow you to automate so far, as we'll explore now..."
      ]
    },
    {
      "cell_type": "markdown",
      "metadata": {
        "id": "CBS6enmb7vVk"
      },
      "source": [
        "## 1.1 Manually create SDF"
      ]
    },
    {
      "cell_type": "markdown",
      "metadata": {
        "id": "lXAQWcG-7vVk"
      },
      "source": [
        "1.   Create a copy of the [Google Store product feed](https://docs.google.com/spreadsheets/d/1Z-hL3KY9ynmajME6kW3QYbiFqmlg9BFvdRqEYy3Rvs4/copy)\n",
        "2.   Update the highlighted cells (B2:B3) on the tab called \"sdf_insertionorders\"\n",
        "3. Save the updated \"**sdf_insertionorders**\" tab and \"**sdf_lineitems**\" tab to .CSV (File >> Download >> CSV)\n",
        "3.   Upload the two .CSV files together in the [DV360 UI](https://displayvideo.google.com/)\n",
        "\n",
        "This will create a very basic campaign, with 2 insertion orders, and 10 lineitems per insertion order."
      ]
    },
    {
      "cell_type": "markdown",
      "metadata": {
        "id": "JggrDagX7vVl"
      },
      "source": [
        "## 1.2 Editing SDF programmatically"
      ]
    },
    {
      "cell_type": "markdown",
      "metadata": {
        "id": "WEGDvl4W7vVl"
      },
      "source": [
        "Our new LineItems are missing some important targeting and inventory controls:\n",
        "* Channels (e.g. groups of publisher URLs)\n",
        "* Inventory source\n",
        "* Brand safety\n",
        "* Geo targeting\n",
        "\n",
        "Let’s use software to make these changes for us..."
      ]
    },
    {
      "cell_type": "markdown",
      "metadata": {
        "id": "HiYmlpZADIa_"
      },
      "source": [
        "**Create a function to download SDFs**\n",
        "\n",
        "As we'll be downloading multiple SDF files in the next exercises, we've created a function to handle to the download process for us."
      ]
    },
    {
      "cell_type": "code",
      "metadata": {
        "id": "RNmABxen7vVn"
      },
      "source": [
        "def download_sdf(request_body):\n",
        "  \"\"\"Download sdf .zip, extract .csv files, load 'SDF-LineItems.csv' to Pandas DataFrame.\"\"\"\n",
        "\n",
        "  # Create the sdfdownloadtask\n",
        "  sdf_operation = display_video_service.sdfdownloadtasks().create(\n",
        "      body=sdf_body).execute()\n",
        "\n",
        "  print(f'Operation {sdf_operation[\"name\"]} was created.')\n",
        "\n",
        "  # Configure the operations.get request\n",
        "  get_request = display_video_service.sdfdownloadtasks().operations().get(\n",
        "      name=sdf_operation['name'])\n",
        "\n",
        "  # Runs the given operations.get request, retrying with an exponential\n",
        "  # backoff. Returns completed operation. Will raise an exception if the\n",
        "  # operation takes more than five hours to complete.\n",
        "  @retry.Retry(predicate=retry.if_exception_type(Exception),\n",
        "               initial=5, maximum=60, deadline=18000)\n",
        "  def check_sdf_downloadtask_completion(get_request):\n",
        "    operation = get_request.execute()\n",
        "    if 'done' not in operation:\n",
        "      raise Exception('The operation has not completed.')\n",
        "    return operation\n",
        "\n",
        "  # Get current status of operation with exponential backoff retry logic\n",
        "  operation = check_sdf_downloadtask_completion(get_request)\n",
        "\n",
        "  # Check if the operation finished with an error and return\n",
        "  if 'error' in operation:\n",
        "    raise Exception(f'The operation finished in error with code {operation[\"error\"][\"code\"]} {operation[\"error\"][\"message\"]}')\n",
        "\n",
        "  print('The operation completed successfully.')\n",
        "  print('Resource {operation[\"response\"][\"resourceName\"]} was created.')\n",
        "\n",
        "  # Extract download file resource name to use in download request\n",
        "  resource_name = operation['response']['resourceName']\n",
        "\n",
        "  # Configure the Media.download request\n",
        "  dowload_request = display_video_service.media().download_media(\n",
        "      resourceName=resource_name)\n",
        "\n",
        "  output_file = f\"{resource_name.replace('/','-')}.zip\"\n",
        "\n",
        "  # Create output stream for downloaded file\n",
        "  outstream = io.FileIO(output_file, mode='wb')\n",
        "\n",
        "  # Make downloader object\n",
        "  downloader = http.MediaIoBaseDownload(outstream, dowload_request)\n",
        "\n",
        "  # Download media file in chunks until finished\n",
        "  download_finished = False\n",
        "  while download_finished is False:\n",
        "    _, download_finished = downloader.next_chunk()\n",
        "\n",
        "  print(f'File downloaded to {output_file}')\n",
        "\n",
        "  # Load output into a Pandas dataframe\n",
        "  df = pd.read_csv(output_file, compression='zip')\n",
        "  return df\n",
        "\n",
        "print('Download SDF function created')"
      ],
      "execution_count": null,
      "outputs": []
    },
    {
      "cell_type": "markdown",
      "metadata": {
        "id": "jOZVpzPv7vVs"
      },
      "source": [
        "Define a boilerplate targeting template that all Line Items should adhere too"
      ]
    },
    {
      "cell_type": "code",
      "metadata": {
        "id": "EyHwwkOl7vVs"
      },
      "source": [
        "targeting_template = {\n",
        "    'Channel Targeting - Include':\n",
        "        '2580510;',\n",
        "    'Channel Targeting - Exclude':\n",
        "        '2580509;',\n",
        "    'Inventory Source Targeting - Include':\n",
        "        '1;',\n",
        "    'Inventory Source Targeting - Exclude':\n",
        "        '6; 8; 9; 10; 2; 11; 12; 13; 16; 20; 23; 27; 29; 30; 31; 34; 35; 36; '\n",
        "        '38; 43; 46; 50; 51; 56; 60; 63; 67; 74;',\n",
        "    'Digital Content Labels - Exclude':\n",
        "        'G; PG; T;',\n",
        "    'Brand Safety Sensitivity Setting':\n",
        "        'Use custom',\n",
        "    'Brand Safety Custom Settings':\n",
        "        'Adult; Alcohol; Derogatory; Downloads & Sharing; Drugs; Gambling; '\n",
        "        'Politics; Profanity; Religion; Sensitive social issues; Suggestive; '\n",
        "        'Tobacco; Tragedy; Transportation Accidents; Violence; Weapons;'\n",
        "}"
      ],
      "execution_count": null,
      "outputs": []
    },
    {
      "cell_type": "markdown",
      "metadata": {
        "id": "h7qeNTjF7vVu"
      },
      "source": [
        "Modify latest SDF LineItems file and update the columns according to the targeting template"
      ]
    },
    {
      "cell_type": "code",
      "metadata": {
        "id": "xqLYVrr37vVu"
      },
      "source": [
        "# Configure the sdfdownloadtasks.create request\n",
        "sdf_body = {\n",
        "    'version': SDF_VERSION_DV360,\n",
        "    'advertiserId': ADVERTISER_ID,\n",
        "    'parentEntityFilter': {\n",
        "        'fileType': ['FILE_TYPE_LINE_ITEM'],\n",
        "        'filterType': 'FILTER_TYPE_CAMPAIGN_ID',\n",
        "        'filterIds': [CAMPAIGN_ID]\n",
        "    }\n",
        "}\n",
        "\n",
        "# Fetch updated SDF lineitem\n",
        "sdf_df = download_sdf(sdf_body)\n",
        "\n",
        "# Overwrite targeting columns using 'targeting_template'\n",
        "sdf_df['Channel Targeting - Include'] = targeting_template[\n",
        "    'Channel Targeting - Include']\n",
        "sdf_df['Channel Targeting - Exclude'] = targeting_template[\n",
        "    'Channel Targeting - Exclude']\n",
        "sdf_df['Inventory Source Targeting - Include'] = targeting_template[\n",
        "    'Inventory Source Targeting - Include']\n",
        "sdf_df['Inventory Source Targeting - Exclude'] = targeting_template[\n",
        "    'Inventory Source Targeting - Exclude']\n",
        "sdf_df['Digital Content Labels - Exclude'] = targeting_template[\n",
        "    'Digital Content Labels - Exclude']\n",
        "sdf_df['Brand Safety Sensitivity Setting'] = targeting_template[\n",
        "    'Brand Safety Sensitivity Setting']\n",
        "sdf_df['Brand Safety Custom Settings'] = targeting_template[\n",
        "    'Brand Safety Custom Settings']\n",
        "\n",
        "# Save modified dataframe to remote storage in Colab\n",
        "sdf_df.to_csv('sdf_update1_controls.csv', index=False)\n",
        "\n",
        "# Show sample (5 rows) of DataFrame\n",
        "sdf_df.head()"
      ],
      "execution_count": null,
      "outputs": []
    },
    {
      "cell_type": "code",
      "metadata": {
        "id": "zVnETmI4rSBh"
      },
      "source": [
        "# Download modified csv to local storage\n",
        "files.download('sdf_update1_controls.csv')\n",
        "\n",
        "print(\n",
        "    \"Success, check your downloads for a file called 'sdf_update1_controls.csv'\"\n",
        ")"
      ],
      "execution_count": null,
      "outputs": []
    },
    {
      "cell_type": "markdown",
      "metadata": {
        "id": "uLPlzjQp7vVz"
      },
      "source": [
        "Upload the output .csv file in the [DV360 UI](https://displayvideo.google.com/)\n",
        "\n",
        "Once the changes have been applied successfully, check the 'Targeting' controls within 'Line Item details'"
      ]
    },
    {
      "cell_type": "markdown",
      "metadata": {
        "id": "i07wvH_17vVz"
      },
      "source": [
        "## 1.3 SDF + Entity Read Files\n",
        "\n",
        "**What are Entity Read Files (ERFs)?** ERFs are flat files (.JSON) in Google Cloud Storage that contain lookup values for DV360 entities like geographies, creatives, etc. Each DV360 entity (Advertiser, Campaign, LineItem, etc) has a corresponding .JSON file in Cloud Storage retained free-of-charge for 60 days from their processing date.\n",
        "\n",
        "ERFs consist of 1 file per entity type, written x1 per day to two seperate Cloud buckets: \n",
        "\n",
        "1.   **[Public](https://developers.google.com/bid-manager/guides/entity-read/overview#public-tables)** (10 .JSON files) - contain common public data such as GeoLocation and Language which are stored in the gdbm-public bucket (the same bucket for every DV360 user).\n",
        "2.   **[Private](https://developers.google.com/bid-manager/guides/entity-read/overview#private-tables)** (13 .JSON files) - contain information about the DV360 Partner's campaigns, creatives, budgets and other private data and are stored in Partner-specific buckets (restricted to specific users)\n",
        "\n",
        "Reference: https://developers.google.com/bid-manager/guides/entity-read/overview\n",
        "\n",
        "ERFs can be used to speed up, and automate, the creation of SDF files.\n",
        "\n",
        "Let's explore this now..."
      ]
    },
    {
      "cell_type": "markdown",
      "metadata": {
        "id": "2qNRwveW7vVz"
      },
      "source": [
        "Download yesterday's GeoLocation.json from [public ERF bucket](https://console.cloud.google.com/storage/browser/gdbm-public/entity/) using Google Cloud Storage API"
      ]
    },
    {
      "cell_type": "code",
      "metadata": {
        "id": "q3MTss5w7vVz"
      },
      "source": [
        "# Actually today-7 to avoid issues with collection\n",
        "yesterday = datetime.date.today() - datetime.timedelta(7)  \n",
        "\n",
        "# Download public ERF for geolocation info\n",
        "request = gcs_service.objects().get_media(\n",
        "    bucket='gdbm-public',\n",
        "    object='entity/' + yesterday.strftime('%Y%m%d') + '.0.GeoLocation.json')\n",
        "\n",
        "response = request.execute()\n",
        "geolocations = json.loads(response)\n",
        "\n",
        "print('GeoLocation.json successfully downloaded \\n')\n",
        "print(\"Here's a random sample of 5 entries:\\n\")\n",
        "pprint.pprint(geolocations[0:5])"
      ],
      "execution_count": null,
      "outputs": []
    },
    {
      "cell_type": "markdown",
      "metadata": {
        "id": "oTQIVXMN7vV1"
      },
      "source": [
        "Retrieve a list of country codes / IDs from GeoLocation.json for each of our store locations"
      ]
    },
    {
      "cell_type": "code",
      "metadata": {
        "id": "uqLxW8TD7vV1"
      },
      "source": [
        "# Provide a list of store locations\n",
        "store_locations = ['United Kingdom', 'France', 'Spain', 'Germany', 'Portugal']\n",
        "\n",
        "# Create a new dictionary to save the country code and ID later on\n",
        "geo_targeting_ids = {}\n",
        "\n",
        "# Note: GeoLocation.json is over 800,000 lines\n",
        "for location in geolocations:\n",
        "  if location['canonical_name'] in store_locations:\n",
        "    geo_targeting_ids[location['country_code']] = location['id']\n",
        "    print(location)\n",
        "\n",
        "print(geo_targeting_ids)"
      ],
      "execution_count": null,
      "outputs": []
    },
    {
      "cell_type": "markdown",
      "metadata": {
        "id": "1kYTjGut7vV3"
      },
      "source": [
        "Download the latest SDF LineItems (because we've made changes since our last download)"
      ]
    },
    {
      "cell_type": "code",
      "metadata": {
        "id": "Wrk890JJ7vV8"
      },
      "source": [
        "# Configure the sdfdownloadtasks.create request\n",
        "sdf_body = {\n",
        "    'version': SDF_VERSION_DV360,\n",
        "    'advertiserId': ADVERTISER_ID,\n",
        "    'parentEntityFilter': {\n",
        "        'fileType': ['FILE_TYPE_LINE_ITEM'],\n",
        "        'filterType': 'FILTER_TYPE_CAMPAIGN_ID',\n",
        "        'filterIds': [CAMPAIGN_ID]\n",
        "    }\n",
        "}\n",
        "\n",
        "sdf_df = download_sdf(sdf_body)\n",
        "sdf_df.head()"
      ],
      "execution_count": null,
      "outputs": []
    },
    {
      "cell_type": "markdown",
      "metadata": {
        "id": "dR4WpdKS7vV5"
      },
      "source": [
        "Modify the contents of the latest SDF output, then save a new CSV with updated Geo Targeting IDs"
      ]
    },
    {
      "cell_type": "code",
      "metadata": {
        "id": "MPjjXbh97vWA"
      },
      "source": [
        "for country in geo_targeting_ids:\n",
        "  target_country = geo_targeting_ids[country]\n",
        "  sdf_df.loc[sdf_df.Name.str.contains(country),\n",
        "             'Geography Targeting - Include'] = f'{target_country};'\n",
        "\n",
        "# Save modified dataframe to remote storage in Colab\n",
        "sdf_df.to_csv('sdf_update2_geo.csv', index=False)\n",
        "\n",
        "# Display updated DataFrame\n",
        "sdf_df.head()"
      ],
      "execution_count": null,
      "outputs": []
    },
    {
      "cell_type": "code",
      "metadata": {
        "id": "8Ag3TWRixCCb"
      },
      "source": [
        "# Download modified csv to local storage\n",
        "files.download('sdf_update2_geo.csv')\n",
        "\n",
        "print(\"Success, see file 'sdf_update2_geo.csv' in your downloads folder\")"
      ],
      "execution_count": null,
      "outputs": []
    },
    {
      "cell_type": "markdown",
      "metadata": {
        "id": "XuRnqwo27vWD"
      },
      "source": [
        "Upload the output .csv file in the [DV360 UI](https://displayvideo.google.com/)\n",
        "\n",
        "Once the changes have been applied successfully, check the 'Targeting' controls within 'Line Item details'"
      ]
    },
    {
      "cell_type": "markdown",
      "metadata": {
        "id": "MGewvDOC7vWD"
      },
      "source": [
        "## 1.4 SDF + Cloud Vision API"
      ]
    },
    {
      "cell_type": "markdown",
      "metadata": {
        "id": "ZfD34CJv7vWD"
      },
      "source": [
        "Next, let's look at how we you can utilise external APIs.\n",
        "\n",
        "1.   Download the '[product_feed](https://docs.google.com/spreadsheets/d/1Z-hL3KY9ynmajME6kW3QYbiFqmlg9BFvdRqEYy3Rvs4/edit#gid=0)' tab from Google Store as CSV (File >> Download >> CSV)\n",
        "2.   Execute the following code block and upload '**product_feed.csv**'\n",
        "3.   This will create a new Python dictionary (key:value pairing), mapping SKUs with their image link\n",
        "\n",
        "**Warning: Cloud Vision API is paid product, utilising the following example in your own Cloud project will incur costs.**\n",
        "\n",
        "Try out the Cloud Vision API for free at [cloud.google.com/vision](https://cloud.google.com/vision/)"
      ]
    },
    {
      "cell_type": "code",
      "metadata": {
        "id": "UpfksP0E7vWE"
      },
      "source": [
        "# Upload product feed using Colab's upload utility\n",
        "product_feed_csv = files.upload()\n",
        "\n",
        "contents = next(iter(product_feed_csv.values())).decode('utf-8')\n",
        "products = csv.DictReader(io.StringIO(contents))\n",
        "\n",
        "image_url_list = {}\n",
        "\n",
        "# Iterate through each row and update dict() with sku:link\n",
        "for row in products:\n",
        "  image_url_list[row['sku']] = row['image_link']\n",
        "\n",
        "pprint.pprint(image_url_list)"
      ],
      "execution_count": null,
      "outputs": []
    },
    {
      "cell_type": "markdown",
      "metadata": {
        "id": "VTxKA00E7vWF"
      },
      "source": [
        "Define a function to send images to the Cloud Vision API"
      ]
    },
    {
      "cell_type": "code",
      "metadata": {
        "id": "Dqcf6sD97vWG"
      },
      "source": [
        "def vision_analysis(image_url):\n",
        "  \"\"\"Process images using the Cloud Vision API.\"\"\"\n",
        "\n",
        "  # Assign image URL\n",
        "  image = vision.Image()\n",
        "  image.source.image_uri = image_url\n",
        "\n",
        "  # Instantiates a Vision client\n",
        "  client = vision.ImageAnnotatorClient(credentials=credentials)\n",
        "\n",
        "  # Performs label detection on the image file\n",
        "  response = client.label_detection(image=image)\n",
        "\n",
        "  dv360_targeting_keywords = []\n",
        "  labels = []\n",
        "\n",
        "  for label in response.label_annotations:\n",
        "    dv360_targeting_keywords.append(label.description)\n",
        "    label = f'{label.description} ({label.score:.2%})'\n",
        "    vision_labels.append(label)\n",
        "\n",
        "  return dv360_targeting_keywords, labels\n",
        "\n",
        "print(\"Vision function created\")"
      ],
      "execution_count": null,
      "outputs": []
    },
    {
      "cell_type": "markdown",
      "metadata": {
        "id": "_stGr-0B7vWH"
      },
      "source": [
        "Run our images through the function, and return a lookup table (reference)"
      ]
    },
    {
      "cell_type": "code",
      "metadata": {
        "id": "RQbFwf-V7vWH"
      },
      "source": [
        "imageslookup = {}\n",
        "\n",
        "for sku, url in image_url_list.items():\n",
        "  imageslookup[sku], vision_labels = vision_analysis(url)\n",
        "  print(f'Analysis completed for: {url}')\n",
        "  print('Labels (confidence score):')\n",
        "  pprint.pprint(vision_labels, indent=4)\n",
        "  print('=' * 30)\n",
        "\n",
        "print('\\n\\nLookup table:')\n",
        "pprint.pprint(imageslookup, indent=4)"
      ],
      "execution_count": null,
      "outputs": []
    },
    {
      "cell_type": "markdown",
      "metadata": {
        "id": "mgm1xQYd7vWJ"
      },
      "source": [
        "Now we have our new labels from the Vision API, we need to write these into the keywords targeting field"
      ]
    },
    {
      "cell_type": "code",
      "metadata": {
        "id": "scDCPwlOpZIN"
      },
      "source": [
        "for product in imageslookup:\n",
        "  sdf_df.loc[sdf_df.Name.str.contains(product),\n",
        "             'Keyword Targeting - Include'] = ';'.join(\n",
        "                 imageslookup[product]).lower()\n",
        "\n",
        "# Save modified dataframe to remote storage in Colab\n",
        "sdf_df.to_csv('sdf_update3_keywords.csv', index=False)\n",
        "\n",
        "sdf_df.head()"
      ],
      "execution_count": null,
      "outputs": []
    },
    {
      "cell_type": "code",
      "metadata": {
        "id": "zpGmzMtM5sxY"
      },
      "source": [
        "# Download modified csv to local storage\n",
        "files.download('sdf_update3_keywords.csv')\n",
        "\n",
        "print(\"Success, see 'sdf_update3_keywords.csv' in your downloads folder\")"
      ],
      "execution_count": null,
      "outputs": []
    },
    {
      "cell_type": "markdown",
      "metadata": {
        "id": "NwfbmKuX7vWM"
      },
      "source": [
        "Upload the output .csv file in the [DV360 UI](https://displayvideo.google.com/)\n",
        "\n",
        "Once the changes have been applied successfully, check the 'Targeting' controls within 'Line Item details'"
      ]
    },
    {
      "cell_type": "markdown",
      "metadata": {
        "id": "J0EItGkg7vWP"
      },
      "source": [
        "## 1.5 Optimisation using Reports"
      ]
    },
    {
      "cell_type": "markdown",
      "metadata": {
        "id": "gL7zXvOE7vWQ"
      },
      "source": [
        "Next, we'll look at how you could combine reporting data, with operations such as optimising bid multipliers or deactivating activity. **Note: your new campaign has no performance history, so we'll use an existing campaign for this exercise.**"
      ]
    },
    {
      "cell_type": "code",
      "metadata": {
        "id": "XxNcOozFxmMG"
      },
      "source": [
        "# Define DV360 report definition (i.e. metrics and filters)\n",
        "report_definition = {\n",
        "    'params': {\n",
        "        'type': 'TYPE_GENERAL',\n",
        "        'metrics': [\n",
        "            'METRIC_IMPRESSIONS', 'METRIC_CLICKS', 'METRIC_CTR',\n",
        "            'METRIC_REVENUE_ADVERTISER'\n",
        "        ],\n",
        "        'groupBys': [\n",
        "            'FILTER_ADVERTISER', 'FILTER_INSERTION_ORDER', 'FILTER_LINE_ITEM',\n",
        "            'FILTER_ADVERTISER_CURRENCY'\n",
        "        ],\n",
        "        'filters': [{\n",
        "            'type': 'FILTER_ADVERTISER',\n",
        "            'value': ADVERTISER_ID\n",
        "        }],\n",
        "    },\n",
        "    'metadata': {\n",
        "        'title': 'DV360 Automation API-generated report',\n",
        "        'dataRange': 'LAST_90_DAYS',\n",
        "        'format': 'csv'\n",
        "    },\n",
        "    'schedule': {\n",
        "        'frequency': 'ONE_TIME'\n",
        "    }\n",
        "}\n",
        "\n",
        "# Create new query using report definition\n",
        "operation = dbm_service.queries().createquery(body=report_definition).execute()\n",
        "pprint.pprint(operation)\n",
        "\n",
        "\n",
        "# Runs the given Queries.getquery request, retrying with an exponential\n",
        "# backoff. Returns completed operation. Will raise an exception if the\n",
        "# operation takes more than five hours to complete.\n",
        "@retry.Retry(predicate=retry.if_exception_type(Exception),\n",
        "             initial=5, maximum=60, deadline=18000)\n",
        "def check_get_query_completion(getquery_request):\n",
        "  response = getquery_request.execute()\n",
        "  pprint.pprint(response)\n",
        "  if response['metadata']['running']:\n",
        "    raise Exception('The operation has not completed.')\n",
        "  return response\n",
        "\n",
        "getquery_request = dbm_service.queries().getquery(queryId=operation['queryId'])\n",
        "response = check_get_query_completion(getquery_request)"
      ],
      "execution_count": null,
      "outputs": []
    },
    {
      "cell_type": "code",
      "metadata": {
        "id": "pjuBG9M67vWT"
      },
      "source": [
        "report_url = response['metadata']['googleCloudStoragePathForLatestReport']\n",
        "\n",
        "# Use skipfooter to remove report footer from data\n",
        "report_df = pd.read_csv(report_url, skipfooter=16, engine='python')\n",
        "report_df.head(10)"
      ],
      "execution_count": null,
      "outputs": []
    },
    {
      "cell_type": "code",
      "metadata": {
        "id": "sZ9mrKopnWYq"
      },
      "source": [
        "# Define our 'KPIs'\n",
        "ctr_target = 0.15\n",
        "imp_threshold = 10000\n",
        "\n",
        "# Convert IDs to remove decimal point, then string\n",
        "report_df['Line Item ID'] = report_df['Line Item ID'].apply(int)\n",
        "poor_performers = report_df.query(\n",
        "    'Impressions > @imp_threshold & (Clicks / Impressions)*100 < @ctr_target')\n",
        "\n",
        "# Convert results to Python list\n",
        "poor_performers = list(poor_performers['Line Item ID'])\n",
        "\n",
        "print(f'There are {len(poor_performers)} LineItems with a CTR'\n",
        "      f' < {ctr_target}% and over {imp_threshold} impressions:'\n",
        "      f'\\n{poor_performers}')"
      ],
      "execution_count": null,
      "outputs": []
    },
    {
      "cell_type": "markdown",
      "metadata": {
        "id": "tXUOHDTp7vWW"
      },
      "source": [
        "Download an updated SDF LineItems file, and if the LineItem ID is in the poor performers list, add a **Geo bid multiplier to half the bids (0.5)**"
      ]
    },
    {
      "cell_type": "code",
      "metadata": {
        "id": "BToWuOg8lX_m"
      },
      "source": [
        "# Configure the sdfdownloadtasks.create request\n",
        "sdf_body = {\n",
        "    'version': SDF_VERSION_DV360,\n",
        "    'advertiserId': ADVERTISER_ID,\n",
        "    'parentEntityFilter': {\n",
        "        'fileType': ['FILE_TYPE_LINE_ITEM'],\n",
        "        'filterType': 'FILTER_TYPE_CAMPAIGN_ID',\n",
        "        'filterIds': ['1914007']\n",
        "    }\n",
        "}\n",
        "\n",
        "sdf_df = download_sdf(sdf_body)\n",
        "sdf_df.head()\n",
        "\n",
        "for li in poor_performers:\n",
        "  geo = sdf_df.loc[sdf_df['Line Item Id'] == li,\n",
        "                   'Geography Targeting - Include'].iloc[0]\n",
        "  sdf_df.loc[sdf_df['Line Item Id'] == li,\n",
        "             'Bid Multipliers'] = f'(geo; {geo} 0.5;);'\n",
        "\n",
        "# Save modified dataframe to remote storage in Colab\n",
        "sdf_df.to_csv('sdf_update4_bidmultipliers.csv', index=False)\n",
        "\n",
        "# Display updated DataFrame\n",
        "sdf_df.head()"
      ],
      "execution_count": null,
      "outputs": []
    },
    {
      "cell_type": "code",
      "metadata": {
        "id": "JD3Jn1EDl2Ni"
      },
      "source": [
        "files.download('sdf_update4_bidmultipliers.csv')\n",
        "\n",
        "print('Success, your new SDF file has been downloaded')"
      ],
      "execution_count": null,
      "outputs": []
    },
    {
      "cell_type": "markdown",
      "metadata": {
        "id": "2FLhQCPm7vWa"
      },
      "source": [
        "Upload the output .csv file in the [DV360 UI](https://displayvideo.google.com/)\n",
        "\n",
        "Once the changes have been applied successfully, check the 'Targeting' controls within 'Line Item details'"
      ]
    },
    {
      "cell_type": "markdown",
      "metadata": {
        "id": "gud5WGnAEHII"
      },
      "source": [
        "## 1.6 Challenge"
      ]
    },
    {
      "cell_type": "markdown",
      "metadata": {
        "id": "hW-x35-HEHIM"
      },
      "source": [
        "**Challenge: update your campaign with both language and audience targeting.**\n",
        "\n",
        "* All Lineitems should target the following Google audiences\n",
        "\n",
        " * Affinity Categories » Technology » Mobile Enthusiasts\n",
        " * Affinity Categories » Technology » Technophiles » High-End Computer Aficionado\n",
        " * In-Market Categories » Consumer Electronics\n",
        "\n",
        "* LineItems for France, should be targeted at French speakers\n",
        "* LineItems for Great Britain, should be targeted at English speakers\n",
        "\n",
        "**Tips**\n",
        "\n",
        "* Google Audience IDs can be found in the DV360 UI or by downloading an SDF with an existing audience applied\n",
        "* Language IDs can be found in the Language.json ERF file or by downloading an SDF with the language already applied"
      ]
    },
    {
      "cell_type": "code",
      "metadata": {
        "id": "fYVahrWS_j13"
      },
      "source": [
        "#TODO"
      ],
      "execution_count": null,
      "outputs": []
    },
    {
      "cell_type": "markdown",
      "metadata": {
        "id": "0CAwyEM2-3pf"
      },
      "source": [
        "**Solution**"
      ]
    },
    {
      "cell_type": "code",
      "metadata": {
        "id": "p57U2_hvEHIV"
      },
      "source": [
        "# Format today-7 in required date format\n",
        "yesterday = (datetime.date.today() - datetime.timedelta(7)).strftime('%Y%m%d')\n",
        "\n",
        "# Download ERF for Language.json from public GCS bucket\n",
        "request = gcs_service.objects().get_media(\n",
        "    bucket='gdbm-public', object='entity/' + yesterday + '.0.Language.json')\n",
        "\n",
        "response = request.execute()\n",
        "languages = json.loads(response)\n",
        "\n",
        "language_targets = ['en', 'fr']\n",
        "lang_targeting_ids = {}\n",
        "\n",
        "# Search language.json for language targets 'en' and 'fr'\n",
        "for lang in languages:\n",
        "  if lang['code'] in language_targets:\n",
        "    lang_targeting_ids[lang['code']] = lang['id']\n",
        "    print(lang)\n",
        "\n",
        "print(lang_targeting_ids)\n",
        "\n",
        "# Define targeting template\n",
        "targeting_template = {\n",
        "    'Affinity & In Market Targeting - Include': '4569529;4586809;4497529;',\n",
        "}\n",
        "\n",
        "# Configure the sdfdownloadtasks.create request\n",
        "sdf_body = {\n",
        "    'version': SDF_VERSION_DV360,\n",
        "    'advertiserId': ADVERTISER_ID,\n",
        "    'parentEntityFilter': {\n",
        "        'fileType': ['FILE_TYPE_LINE_ITEM'],\n",
        "        'filterType': 'FILTER_TYPE_CAMPAIGN_ID',\n",
        "        'filterIds': [CAMPAIGN_ID]\n",
        "    }\n",
        "}\n",
        "\n",
        "sdf_df = download_sdf(sdf_body)\n",
        "\n",
        "# Update DataFrame with Language and Audience targeting\n",
        "sdf_df.loc[sdf_df.Name.str.contains('GB'),\n",
        "           'Language Targeting - Include'] = f\"{lang_targeting_ids['en']};\"\n",
        "sdf_df.loc[sdf_df.Name.str.contains('FR'),\n",
        "           'Language Targeting - Include'] = f\"{lang_targeting_ids['fr']};\"\n",
        "sdf_df['Affinity & In Market Targeting - Include'] = targeting_template[\n",
        "    'Affinity & In Market Targeting - Include']\n",
        "\n",
        "# Save modified dataframe to remote storage in Colab\n",
        "sdf_df.to_csv('sdf_update5_challenge.csv', index=False)\n",
        "\n",
        "# Display updated DataFrame\n",
        "sdf_df.head()"
      ],
      "execution_count": null,
      "outputs": []
    },
    {
      "cell_type": "code",
      "metadata": {
        "id": "xVr4Tx0WGu_U"
      },
      "source": [
        "# Download file to disk using Colab syntax\n",
        "files.download('sdf_update5_challenge.csv')\n",
        "\n",
        "print(\"Success, see downloads folder for file 'sdf_update5_challenge.csv'\")"
      ],
      "execution_count": null,
      "outputs": []
    },
    {
      "cell_type": "markdown",
      "metadata": {
        "id": "Y-5rO2qCEHIW"
      },
      "source": [
        "Upload the output .csv file in the [DV360 UI](https://displayvideo.google.com/)"
      ]
    },
    {
      "cell_type": "markdown",
      "metadata": {
        "id": "dffZuobP-Ytw"
      },
      "source": [
        "# 2) Display & Video 360 API"
      ]
    },
    {
      "cell_type": "markdown",
      "metadata": {
        "id": "IZi5XIkN-Yt0"
      },
      "source": [
        "**What is the Display & Video 360 API?** The Display & Video 360 API (formly known as the DV360 Write API) is the programmatic interface for the Display & Video 360 platform. It allows developers to easily and efficiently automate complex Display & Video 360 workflows, such as creating insertion orders and setting targeting options for individual line items.\n",
        "\n",
        "We'll use it now to build upon the campaign we created earlier using SDF.\n"
      ]
    },
    {
      "cell_type": "markdown",
      "metadata": {
        "id": "ntpwiPG--Yt3"
      },
      "source": [
        "## 2.1 Campaign builds"
      ]
    },
    {
      "cell_type": "markdown",
      "metadata": {
        "id": "ZDAePeL284Fe"
      },
      "source": [
        "**Check Advertiser (ADVERTISER_ID) has active Lineitems**"
      ]
    },
    {
      "cell_type": "code",
      "metadata": {
        "id": "NtrAMvidPLQA"
      },
      "source": [
        "request = display_video_service.advertisers().lineItems().list(\n",
        "    advertiserId=ADVERTISER_ID,\n",
        "    filter='entityStatus=\"ENTITY_STATUS_ACTIVE\"',\n",
        "    pageSize=1\n",
        "    )\n",
        "\n",
        "response = request.execute()\n",
        "\n",
        "# Check if response is empty.\n",
        "if not response:\n",
        "  print('Advertiser has no active Line Items')\n",
        "else:\n",
        "  pprint.pprint(response['lineItems'])"
      ],
      "execution_count": null,
      "outputs": []
    },
    {
      "cell_type": "code",
      "metadata": {
        "id": "3E3S1ja1c6Jd"
      },
      "source": [
        "def get_active_lineitems(ADVERTISER_ID, CAMPAIGN_ID):\n",
        "  \"\"\"Returns list of Lineitems with active status.\"\"\"\n",
        "  list_lineitems = display_video_service.advertisers().lineItems().list(\n",
        "      advertiserId=ADVERTISER_ID,\n",
        "      filter=f'entityStatus=\"ENTITY_STATUS_ACTIVE\" AND campaignId=\"{CAMPAIGN_ID}\"',\n",
        "      fields='lineItems(lineItemId,displayName)'  # Return only two fields\n",
        "  ).execute()\n",
        "\n",
        "  active_lineitems = [li['lineItemId'] for li in list_lineitems['lineItems']]\n",
        "  return active_lineitems"
      ],
      "execution_count": null,
      "outputs": []
    },
    {
      "cell_type": "markdown",
      "metadata": {
        "id": "k978_cI8__N_"
      },
      "source": [
        "Upload the [extended feed](https://docs.google.com/spreadsheets/d/1CmP0q7QQa0GPJnLlSgqROw_oMXrrbNj8osITTR1-Wh8/edit#gid=472205656) for Google Store's new territories: Spain, Germany and Portugal."
      ]
    },
    {
      "cell_type": "code",
      "metadata": {
        "id": "fv8eXlga-Yt5"
      },
      "source": [
        "# Upload product feed using Colab's upload utility\n",
        "product_feed_csv = files.upload()\n",
        "\n",
        "contents = next(iter(product_feed_csv.values())).decode('utf-8')\n",
        "products = list(csv.DictReader(io.StringIO(contents)))\n",
        "\n",
        "# Create unique list of country-codes -- set() automatically de dupes\n",
        "unique_country_codes = set([row['country code'] for row in products])\n",
        "\n",
        "print(unique_country_codes)"
      ],
      "execution_count": null,
      "outputs": []
    },
    {
      "cell_type": "markdown",
      "metadata": {
        "id": "N7M5N1SQ-Yt7"
      },
      "source": [
        "**Create Insertion Order template**\n",
        "\n",
        "Here we're defining a new a function called 'create_insertion_order'. Note: **all new Insertion Orders and Line Items** created using the DV360 API are created in 'Draft' mode (as a safety mechanism), and must be activated with a second API call, or via the UI (e.g. manually by a trader)."
      ]
    },
    {
      "cell_type": "code",
      "metadata": {
        "id": "KL6UCHj3-Yt8"
      },
      "source": [
        "def create_insertion_order(parent_campaign_id, new_io_name):\n",
        "  \"\"\"Creates a new DV360 insertion order object.\"\"\"\n",
        "\n",
        "  # Define our new Insertion Order boilerplate\n",
        "  new_insertion_order = {\n",
        "      'campaignId': parent_campaign_id,\n",
        "      'displayName': new_io_name,  # Define naming convention\n",
        "      'entityStatus': 'ENTITY_STATUS_DRAFT',\n",
        "      'pacing': {\n",
        "          'pacingPeriod': 'PACING_PERIOD_DAILY',\n",
        "          'pacingType': 'PACING_TYPE_EVEN',\n",
        "          'dailyMaxMicros': '1000000'  # Equiv to $1 or local currency\n",
        "      },\n",
        "      'frequencyCap': {\n",
        "          'unlimited': False,\n",
        "          'timeUnit': 'TIME_UNIT_MONTHS',\n",
        "          'timeUnitCount': 1,\n",
        "          'maxImpressions': 5\n",
        "      },\n",
        "      'performanceGoal': {\n",
        "          'performanceGoalType': 'PERFORMANCE_GOAL_TYPE_CPC',\n",
        "          'performanceGoalAmountMicros': '1000000',  # $1 CPM/CPC target\n",
        "      },\n",
        "      'bidStrategy': {\n",
        "          'fixedBid': {\n",
        "              'bidAmountMicros': '0'\n",
        "          },\n",
        "      },\n",
        "      'budget': {\n",
        "          'automationType':\n",
        "              'INSERTION_ORDER_AUTOMATION_TYPE_NONE',\n",
        "          'budgetUnit':\n",
        "              'BUDGET_UNIT_CURRENCY',\n",
        "          'budgetSegments': [{\n",
        "              'budgetAmountMicros':\n",
        "                  '30000000',  # Equiv to $30 or local currency\n",
        "              'description': 'My first segment',\n",
        "              'dateRange': {\n",
        "                  'startDate': {\n",
        "                      'year': year,\n",
        "                      'month': month,\n",
        "                      'day': day\n",
        "                  },\n",
        "                  'endDate': {\n",
        "                      'year': year_plus30,\n",
        "                      'month': month_plus30,\n",
        "                      'day': day_plus30\n",
        "                  }\n",
        "              }\n",
        "          }]\n",
        "      }\n",
        "  }\n",
        "\n",
        "  # API create() request to generate new Insertion Order\n",
        "  newinsertionorder_request = display_video_service.advertisers(\n",
        "  ).insertionOrders().create(\n",
        "      advertiserId=ADVERTISER_ID, body=new_insertion_order).execute()\n",
        "\n",
        "  # Define patch to activate new Insertion Order afer creation\n",
        "  patch = {\n",
        "      'entityStatus': 'ENTITY_STATUS_ACTIVE',\n",
        "  }\n",
        "\n",
        "  # API patch() request\n",
        "  display_video_service.advertisers().insertionOrders().patch(\n",
        "      advertiserId=ADVERTISER_ID,\n",
        "      insertionOrderId=newinsertionorder_request['insertionOrderId'],\n",
        "      updateMask='entityStatus',\n",
        "      body=patch).execute()\n",
        "\n",
        "  print(newinsertionorder_request)\n",
        "  return newinsertionorder_request\n",
        "\n",
        "\n",
        "print('Insertion Order function created')"
      ],
      "execution_count": null,
      "outputs": []
    },
    {
      "cell_type": "markdown",
      "metadata": {
        "id": "1cIrHfi5-Yt9"
      },
      "source": [
        "**Create LineItem template**\n",
        "\n",
        "Here we define a new function called 'create_lineitem', based on a template we specified.\n",
        "\n",
        "Note: the following template does not include any targeting controls by default. Normally, we **strongly** encourage the addition of targeting before activating a line item."
      ]
    },
    {
      "cell_type": "code",
      "metadata": {
        "id": "2ffby0-Z-Yt-"
      },
      "source": [
        "def create_lineitem(parent_io_id, new_li_name):\n",
        "  \"\"\"Creates a new DV360 lineitem object.\"\"\"\n",
        "\n",
        "  # Define our new LineItem boilerplate\n",
        "  new_lineitem = {\n",
        "      'advertiserId': ADVERTISER_ID,\n",
        "      'insertionOrderId': parent_io_id,\n",
        "      'displayName': new_li_name,  # Define naming convention\n",
        "      'lineItemType': 'LINE_ITEM_TYPE_DISPLAY_DEFAULT',\n",
        "      'entityStatus': 'ENTITY_STATUS_DRAFT',\n",
        "      'flight': {\n",
        "          'flightDateType': 'LINE_ITEM_FLIGHT_DATE_TYPE_INHERITED',\n",
        "      },\n",
        "    }\n",
        "\n",
        "  # API create() request to generate new Lineitem\n",
        "  newlineitem_request = display_video_service.advertisers().lineItems().create(\n",
        "      advertiserId=ADVERTISER_ID, body=new_lineitem).execute()\n",
        "\n",
        "  # Define patch to activate new Line Item afer creation\n",
        "  patch = {\n",
        "      'entityStatus': 'ENTITY_STATUS_ACTIVE',\n",
        "  }\n",
        "\n",
        "  # API patch() request\n",
        "  display_video_service.advertisers().lineItems().patch(\n",
        "      advertiserId=ADVERTISER_ID,\n",
        "      lineItemId=newlineitem_request['lineItemId'],\n",
        "      updateMask='entityStatus',\n",
        "      body=patch).execute()\n",
        "\n",
        "  print(newlineitem_request)\n",
        "  return newlineitem_request\n",
        "\n",
        "print('LineItem function created')"
      ],
      "execution_count": null,
      "outputs": []
    },
    {
      "cell_type": "markdown",
      "metadata": {
        "id": "BA6fttC7-Yt_"
      },
      "source": [
        "**Build our new campaign**\n",
        "\n",
        "First, we'll loop through the list of countries generated at the beginning, and for each country, create a new Insertion Order by calling our function 'create_insertion_order'. Within that loop, we  find every product that is sold in the corresponding country-code, and create a new Line Item for every matching product using our function 'create_lineitem'.\n",
        "\n",
        "Sit tight, this one can take a while (~10 mins)...\n",
        "\n",
        "[Link to DV360 UI](https://displayvideo.google.com/)"
      ]
    },
    {
      "cell_type": "code",
      "metadata": {
        "id": "TBBdj0Zi-YuA"
      },
      "source": [
        "%%time\n",
        "for country_code in unique_country_codes:\n",
        "  # Create() and patch() new Insertion Order\n",
        "  io_name = f'Google Store | {country_code} | Display | Prospecting'\n",
        "  insertionorder = create_insertion_order(CAMPAIGN_ID, io_name)\n",
        "  for row in products:\n",
        "    if country_code in row['country code']:\n",
        "      # Create() and patch() new LineItem\n",
        "      li_name = f\"{row['country code']} | {row['title']} | {row['sku']}\"\n",
        "      lineitem = create_lineitem(insertionorder['insertionOrderId'], li_name)\n",
        "\n",
        "print('Process completed')"
      ],
      "execution_count": null,
      "outputs": []
    },
    {
      "cell_type": "markdown",
      "metadata": {
        "id": "gtbmAfRP-5tE"
      },
      "source": [
        "If successful, the result should look similar to the below in DV360:\n",
        "\n",
        "![Finished campaign structure](https://github.com/google/dv360-automation/blob/master/docs/images/googlestore_campaign.png?raw=true)"
      ]
    },
    {
      "cell_type": "markdown",
      "metadata": {
        "id": "fYwoPT-STy7Y"
      },
      "source": [
        "## 2.2 Individual targeting\n",
        "\n",
        "Reference: https://developers.google.com/display-video/api/guides/managing-line-items/targeting"
      ]
    },
    {
      "cell_type": "markdown",
      "metadata": {
        "id": "h_ANWETmUFHj"
      },
      "source": [
        "Retrieve a list of available targeting options using [targetingTypes().targetingOptions()](https://developers.google.com/display-video/api/reference/rest/v1/targetingTypes.targetingOptions/list)\n",
        "\n",
        "The following example demonstrates retrieving of Browser targeting options only.\n",
        "\n",
        "The \"BrowserDetails\" field is only applicable with \"TARGETING_TYPE_BROWSER\"."
      ]
    },
    {
      "cell_type": "code",
      "metadata": {
        "id": "T8_oXsJ46cFN"
      },
      "source": [
        "# Create the page token variable.\n",
        "next_page_token = ''\n",
        "\n",
        "while True:\n",
        "  # Request the targeting options list.\n",
        "  response = display_video_service.targetingTypes().targetingOptions().list(\n",
        "      advertiserId=ADVERTISER_ID,\n",
        "      targetingType='TARGETING_TYPE_BROWSER',\n",
        "      pageToken=next_page_token).execute()\n",
        "\n",
        "  # Check if response is empty.\n",
        "  if not response:\n",
        "    print('List request returned no Targeting Options')\n",
        "    break\n",
        "\n",
        "  # Iterate over retrieved targeting options.\n",
        "  options_dict = {}\n",
        "  for option in response['targetingOptions']:\n",
        "    options_dict[\n",
        "        option['targetingOptionId']] = option['browserDetails']['displayName']\n",
        "\n",
        "  # Break out of loop if there is no next page.\n",
        "  if 'nextPageToken' not in response:\n",
        "    break\n",
        "\n",
        "  # Update the next page token.\n",
        "  next_page_token = response['nextPageToken']\n",
        "\n",
        "pprint.pprint(options_dict)"
      ],
      "execution_count": null,
      "outputs": []
    },
    {
      "cell_type": "markdown",
      "metadata": {
        "id": "SHtjFi7mI3m5"
      },
      "source": [
        "**Apply individual targeting criteria to single entity**"
      ]
    },
    {
      "cell_type": "code",
      "metadata": {
        "id": "0gLSgH1sI3Br"
      },
      "source": [
        "# Return list of Lineitems with active status\n",
        "active_lineitems = get_active_lineitems(ADVERTISER_ID, CAMPAIGN_ID)\n",
        "\n",
        "# Fetch first Lineitem ID\n",
        "lineitem_id = active_lineitems[0]\n",
        "\n",
        "# Create a assigned targeting option object.\n",
        "assigned_targeting_option_obj = {\n",
        "    'browserDetails': {\n",
        "        'targetingOptionId': '500072'\n",
        "    }\n",
        "}\n",
        "\n",
        "# Create the assigned targeting option.\n",
        "assigned_targeting_option = display_video_service.advertisers().lineItems(\n",
        ").targetingTypes().assignedTargetingOptions().create(\n",
        "    advertiserId=ADVERTISER_ID,\n",
        "    lineItemId=f'{lineitem_id}',\n",
        "    targetingType='TARGETING_TYPE_BROWSER',\n",
        "    body=assigned_targeting_option_obj\n",
        ").execute()\n",
        "\n",
        "# Display the new assigned targeting option.\n",
        "print(f\"Assigned Targeting Option {assigned_targeting_option['name']} created.\")"
      ],
      "execution_count": null,
      "outputs": []
    },
    {
      "cell_type": "markdown",
      "metadata": {
        "id": "NmMRfajo1jgB"
      },
      "source": [
        "**Applying individual targeting criteria to multiple entities**"
      ]
    },
    {
      "cell_type": "code",
      "metadata": {
        "id": "fM63xGck1i0g"
      },
      "source": [
        "# Create the page token variable.\n",
        "next_page_token = ''\n",
        "\n",
        "while True:\n",
        "# Request the targeting options list.\n",
        "  response = display_video_service.googleAudiences().list(\n",
        "      advertiserId=ADVERTISER_ID,\n",
        "      filter='displayName : \"Technology\"',\n",
        "      pageToken=next_page_token).execute()\n",
        "\n",
        "  # Check if response is empty.\n",
        "  if not response:\n",
        "    print('List request returned no Targeting Options')\n",
        "    break\n",
        "\n",
        "  # Iterate over retrieved targeting options.\n",
        "  options_dict = {}\n",
        "  for option in response['googleAudiences']:\n",
        "    options_dict[option['googleAudienceId']] = [\n",
        "        option['displayName'], option['googleAudienceType']\n",
        "    ]\n",
        "\n",
        "  # Break out of loop if there is no next page.\n",
        "  if 'nextPageToken' not in response:\n",
        "    break\n",
        "\n",
        "  # Update the next page token.\n",
        "  next_page_token = response['nextPageToken']\n",
        "\n",
        "pprint.pprint(response)"
      ],
      "execution_count": null,
      "outputs": []
    },
    {
      "cell_type": "code",
      "metadata": {
        "id": "hvRPd12X4eMF"
      },
      "source": [
        "google_audience_id = '92948'\n",
        "\n",
        "# Return list of Lineitems with active status\n",
        "active_lineitems = get_active_lineitems(ADVERTISER_ID, CAMPAIGN_ID)\n",
        "\n",
        "# Create a assigned targeting option object.\n",
        "assigned_targeting_option_obj = {\n",
        "    'audienceGroupDetails': {\n",
        "        'includedGoogleAudienceGroup': {\n",
        "            'settings': [{\n",
        "                'googleAudienceId': f'{google_audience_id}'\n",
        "            }]\n",
        "        }\n",
        "    }\n",
        "}\n",
        "\n",
        "pprint.pprint(assigned_targeting_option_obj)\n",
        "\n",
        "# Update bulk targeting\n",
        "for li in active_lineitems:\n",
        "  # Create the assigned targeting option.\n",
        "  assigned_targeting_option = display_video_service.advertisers().lineItems(\n",
        "  ).targetingTypes().assignedTargetingOptions().create(\n",
        "      advertiserId=ADVERTISER_ID,\n",
        "      lineItemId=f'{li}',\n",
        "      targetingType='TARGETING_TYPE_AUDIENCE_GROUP',\n",
        "      body=assigned_targeting_option_obj).execute()\n",
        "  # Display the new assigned targeting option.\n",
        "  print(f\"Targeting Option {assigned_targeting_option['name']} created.\")"
      ],
      "execution_count": null,
      "outputs": []
    },
    {
      "cell_type": "markdown",
      "metadata": {
        "id": "qiWKuw7uydMo"
      },
      "source": [
        "## 2.3 Bulk targeting"
      ]
    },
    {
      "cell_type": "markdown",
      "metadata": {
        "id": "7_ZQZnMJoXaM"
      },
      "source": [
        "Bulk updates using templated targeting controls"
      ]
    },
    {
      "cell_type": "code",
      "metadata": {
        "id": "gYTXfZR6ejvt"
      },
      "source": [
        "def set_default_li_targeting(lineitem_id):\n",
        "  \"\"\"Sets default LineItem targeting according to standard template.\"\"\"\n",
        "\n",
        "  # Define 'Channels'\n",
        "  create_channel_assigned_targetingoptions = []\n",
        "  for targeting_id in ['1777746835', '1778039430']:\n",
        "    create_channel_assigned_targetingoptions.append(\n",
        "        {'channelDetails': {\n",
        "            'channelId': targeting_id,\n",
        "            'negative': False\n",
        "        }})\n",
        "\n",
        "  # Define 'Inventory'\n",
        "  create_inventory_assigned_targetingoptions = []\n",
        "  for targeting_id in ['1']:\n",
        "    create_inventory_assigned_targetingoptions.append(\n",
        "        {'inventorySourceDetails': {'inventorySourceId': targeting_id}}\n",
        "    )\n",
        "\n",
        "  # Define 'Sensitive categories'\n",
        "  create_sensitive_cat_assigned_targetingoptions = []\n",
        "  sensitive_category = [\n",
        "      '1163177997', '1163178297', '118521027123', '118521027843',\n",
        "      '118521028083', '118521028563', '118521028803', '1596254697'\n",
        "  ]\n",
        "  for targeting_id in sensitive_category:\n",
        "    create_sensitive_cat_assigned_targetingoptions.append({\n",
        "        'sensitiveCategoryExclusionDetails': {\n",
        "            'excludedTargetingOptionId': targeting_id\n",
        "        }\n",
        "    })\n",
        "\n",
        "  # Define 'Digital content labels'\n",
        "  create_digital_content_assigned_targetingoptions = []\n",
        "  content_rating_tier = ['19875634320', '19875634200', '19875634080']\n",
        "  for targeting_id in content_rating_tier:\n",
        "    create_digital_content_assigned_targetingoptions.append({\n",
        "        'digitalContentLabelExclusionDetails': {\n",
        "            'excludedTargetingOptionId': targeting_id\n",
        "        }\n",
        "    })\n",
        "\n",
        "  # Contruct request\n",
        "  bulk_edit_line_item_request = {\n",
        "      'createRequests': [\n",
        "          {\n",
        "              'targetingType':\n",
        "                  'TARGETING_TYPE_CHANNEL',\n",
        "              'assignedTargetingOptions': [\n",
        "                  create_channel_assigned_targetingoptions\n",
        "              ]\n",
        "          },\n",
        "          {\n",
        "              'targetingType':\n",
        "                  'TARGETING_TYPE_INVENTORY_SOURCE',\n",
        "              'assignedTargetingOptions': [\n",
        "                  create_inventory_assigned_targetingoptions\n",
        "              ]\n",
        "          },\n",
        "          {\n",
        "              'targetingType':\n",
        "                  'TARGETING_TYPE_SENSITIVE_CATEGORY_EXCLUSION',\n",
        "              'assignedTargetingOptions': [\n",
        "                  create_sensitive_cat_assigned_targetingoptions\n",
        "              ]\n",
        "          },\n",
        "          {\n",
        "              'targetingType':\n",
        "                  'TARGETING_TYPE_DIGITAL_CONTENT_LABEL_EXCLUSION',\n",
        "              'assignedTargetingOptions': [\n",
        "                  create_digital_content_assigned_targetingoptions\n",
        "              ]\n",
        "          },\n",
        "      ]\n",
        "  }\n",
        "\n",
        "  # Edit the line item targeting.\n",
        "  bulk_request = display_video_service.advertisers().lineItems(\n",
        "  ).bulkEditLineItemAssignedTargetingOptions(\n",
        "      advertiserId=ADVERTISER_ID,\n",
        "      lineItemId=lineitem_id,\n",
        "      body=bulk_edit_line_item_request\n",
        "      )\n",
        "\n",
        "  bulk_response = bulk_request.execute()\n",
        "\n",
        "  # Check if response is empty.\n",
        "  # If not, iterate over and display new assigned targeting options.\n",
        "  if not bulk_response:\n",
        "    print('Bulk edit request created no new AssignedTargetingOptions')\n",
        "  else:\n",
        "    for assigned_targeting_option in bulk_response[\n",
        "        'createdAssignedTargetingOptions']:\n",
        "      print(f\"Targeting Option {assigned_targeting_option['name']} created.\")\n",
        "\n",
        "\n",
        "print('Lineitem targeting function created')"
      ],
      "execution_count": null,
      "outputs": []
    },
    {
      "cell_type": "markdown",
      "metadata": {
        "id": "5BhB61oWyu0B"
      },
      "source": [
        "**Retrieve list of active LineItems, and Apply bulk targeting**"
      ]
    },
    {
      "cell_type": "code",
      "metadata": {
        "id": "MLgcXk4InnlP"
      },
      "source": [
        "# Return list of Lineitems with active status\n",
        "active_lineitems = get_active_lineitems(ADVERTISER_ID, CAMPAIGN_ID)\n",
        "\n",
        "# Update bulk targeting\n",
        "for li in active_lineitems:\n",
        "  set_default_li_targeting(li)"
      ],
      "execution_count": null,
      "outputs": []
    },
    {
      "cell_type": "markdown",
      "metadata": {
        "id": "bwZ0PLWM-YuC"
      },
      "source": [
        "## 2.4 Optimisation (external trigger)"
      ]
    },
    {
      "cell_type": "markdown",
      "metadata": {
        "id": "un90ah0D-YuG"
      },
      "source": [
        "The following optimisations will be completed on your campaign, created earlier.\n",
        "\n",
        "**Create functions to 'deactivate' or 'optimise' Lineitems**"
      ]
    },
    {
      "cell_type": "code",
      "metadata": {
        "id": "il-nDuIa-YuG"
      },
      "source": [
        "def optimise_lineitem(lineitem_id, action):\n",
        "  \"\"\"Optimises lineitem according to given parameter.\"\"\"\n",
        "\n",
        "  lineitem_object = display_video_service.advertisers().lineItems().get(\n",
        "      advertiserId=ADVERTISER_ID,\n",
        "      lineItemId=lineitem_id).execute()\n",
        "\n",
        "  if lineitem_object['entityStatus'] == 'ENTITY_STATUS_ACTIVE':\n",
        "    if action == 'pause':\n",
        "      patch = {\n",
        "          'entityStatus': 'ENTITY_STATUS_PAUSED',\n",
        "      }\n",
        "\n",
        "      lineitem_patched = display_video_service.advertisers().lineItems().patch(\n",
        "          advertiserId=ADVERTISER_ID,\n",
        "          lineItemId=lineitem_id,\n",
        "          updateMask='entityStatus',\n",
        "          body=patch).execute()\n",
        "      print(f\"LineItemID {lineitem_patched['name']} was paused\")\n",
        "\n",
        "    elif action == 'optimise':\n",
        "      patch = {'bidStrategy': {'fixedBid': {'bidAmountMicros': '500000'},}}\n",
        "\n",
        "      lineitem_patched = display_video_service.advertisers().lineItems().patch(\n",
        "          advertiserId=ADVERTISER_ID,\n",
        "          lineItemId=lineitem_id,\n",
        "          updateMask='bidStrategy',\n",
        "          body=patch).execute()\n",
        "\n",
        "      print(f\"{lineitem_patched['name']} was optimised\")\n",
        "    else:\n",
        "      print(\"Not a valid action, must be either 'pause' or 'optimise'\")\n",
        "  else:\n",
        "    print(\n",
        "        f\"{lineitem_object['name']} already paused/archived - no action taken\")\n",
        "\n",
        "print('Optimisation function created')"
      ],
      "execution_count": null,
      "outputs": []
    },
    {
      "cell_type": "markdown",
      "metadata": {
        "id": "8FC5rtARpFfO"
      },
      "source": [
        "**Creat list of out of stock products**"
      ]
    },
    {
      "cell_type": "code",
      "metadata": {
        "id": "U0VexcT53rl5"
      },
      "source": [
        "out_of_stock_list = []\n",
        "products = csv.DictReader(io.StringIO(contents))\n",
        "\n",
        "# Iterate through each row, checking for products where availability = 0\n",
        "for row in products:\n",
        "  if row['availability'] == '0':\n",
        "    out_of_stock_list.append(row['sku'])\n",
        "\n",
        "# This should generate a list of 9 SKUs that are no-longer in stock\n",
        "print(\n",
        "    f'Found {len(out_of_stock_list)} out-of-stock products {out_of_stock_list}')"
      ],
      "execution_count": null,
      "outputs": []
    },
    {
      "cell_type": "markdown",
      "metadata": {
        "id": "9ud9o6TOpnTK"
      },
      "source": [
        "**Process optimisation**"
      ]
    },
    {
      "cell_type": "code",
      "metadata": {
        "id": "EchVLYGO39Jr"
      },
      "source": [
        "# Return list of Lineitems with active status\n",
        "active_lineitems = get_active_lineitems(ADVERTISER_ID, CAMPAIGN_ID)\n",
        "\n",
        "# Iterate through out-of-stock list. If sku is found in lineitem's name, perform optimisation.\n",
        "for product in out_of_stock_list:\n",
        "  for key, value in active_lineitems.items():\n",
        "    if product in key:\n",
        "      optimise_lineitem(value, 'pause')"
      ],
      "execution_count": null,
      "outputs": []
    },
    {
      "cell_type": "markdown",
      "metadata": {
        "id": "9d415mAw5rwQ"
      },
      "source": [
        "## 2.5 Optimisation (reporting data)"
      ]
    },
    {
      "cell_type": "markdown",
      "metadata": {
        "id": "lO-c-kdd27XV"
      },
      "source": [
        "As your new campaign has no performance data, the following optimisations will be completed on an existing campaign with historical data.\n",
        "\n",
        "**Create new performance report and fetch results**"
      ]
    },
    {
      "cell_type": "code",
      "metadata": {
        "id": "_kuwxEO4qcaY"
      },
      "source": [
        "# Define DV360 report definition (i.e. metrics and filters)\n",
        "report_definition = {\n",
        "    'params': {\n",
        "        'type': 'TYPE_GENERAL',\n",
        "        'metrics': [\n",
        "            'METRIC_IMPRESSIONS', 'METRIC_CLICKS', 'METRIC_CTR',\n",
        "            'METRIC_REVENUE_ADVERTISER'\n",
        "        ],\n",
        "        'groupBys': [\n",
        "            'FILTER_ADVERTISER', 'FILTER_INSERTION_ORDER', 'FILTER_LINE_ITEM',\n",
        "            'FILTER_ADVERTISER_CURRENCY'\n",
        "        ],\n",
        "        'filters': [{\n",
        "            'type': 'FILTER_ADVERTISER',\n",
        "            'value': ADVERTISER_ID\n",
        "        }],\n",
        "    },\n",
        "    'metadata': {\n",
        "        'title': 'DV360 Automation API-generated report',\n",
        "        'dataRange': 'LAST_90_DAYS',\n",
        "        'format': 'csv'\n",
        "    },\n",
        "    'schedule': {\n",
        "        'frequency': 'ONE_TIME'\n",
        "    }\n",
        "}\n",
        "\n",
        "# Create new query using report definition\n",
        "operation = dbm_service.queries().createquery(body=report_definition).execute()\n",
        "pprint.pprint(operation)\n",
        "\n",
        "\n",
        "# Runs the given Queries.getquery request, retrying with an exponential\n",
        "# backoff. Returns completed operation. Will raise an exception if the\n",
        "# operation takes more than five hours to complete.\n",
        "@retry.Retry(\n",
        "    predicate=retry.if_exception_type(Exception),\n",
        "    initial=5,\n",
        "    maximum=60,\n",
        "    deadline=18000)\n",
        "def check_get_query_completion(getquery_request):\n",
        "  response = getquery_request.execute()\n",
        "  pprint.pprint(response)\n",
        "  if response['metadata']['running']:\n",
        "    raise Exception('The operation has not completed.')\n",
        "  return response\n",
        "\n",
        "getquery_request = dbm_service.queries().getquery(queryId=operation['queryId'])\n",
        "response = check_get_query_completion(getquery_request)"
      ],
      "execution_count": null,
      "outputs": []
    },
    {
      "cell_type": "markdown",
      "metadata": {
        "id": "wgVYtoeC3Nh8"
      },
      "source": [
        "**Load report to Pandas DataFrame**"
      ]
    },
    {
      "cell_type": "code",
      "metadata": {
        "id": "kpHMihk1rACk"
      },
      "source": [
        "# Capture report URL from response\n",
        "report_url = response['metadata']['googleCloudStoragePathForLatestReport']\n",
        "\n",
        "# Use skipfooter to remove report footer from data\n",
        "report_df = pd.read_csv(report_url, skipfooter=16, engine='python')\n",
        "report_df.head(10)"
      ],
      "execution_count": null,
      "outputs": []
    },
    {
      "cell_type": "markdown",
      "metadata": {
        "id": "bv8FTwDI-YuE"
      },
      "source": [
        "**Create two lists of poorly performing LineItems**\n",
        "1.   LineItems that should be paused\n",
        "2.   Lineitems to reduce bids"
      ]
    },
    {
      "cell_type": "code",
      "metadata": {
        "id": "Lo7Dmcc8-YuE"
      },
      "source": [
        "# Define our 'KPIs'\n",
        "ctr_to_pause = 0.1\n",
        "ctr_to_optimise = 0.3\n",
        "imp_threshold = 5000\n",
        "\n",
        "# Convert IDs to remove decimal point, then string\n",
        "report_df['Line Item ID'] = report_df['Line Item ID'].apply(int)\n",
        "lineitems_to_pause = report_df.query('Impressions > @imp_threshold and (Clicks / Impressions)*100 < @ctr_to_pause')\n",
        "lineitems_to_reducebid = report_df.query('Impressions > @imp_threshold and (Clicks / Impressions)*100 > @ctr_to_pause < @ctr_to_optimise')\n",
        "\n",
        "# Convert results to Python list\n",
        "lineitems_to_pause = list(lineitems_to_pause['Line Item ID'])\n",
        "lineitems_to_reducebid = list(lineitems_to_reducebid['Line Item ID'])\n",
        "\n",
        "print(f'Found {len(lineitems_to_pause)} LineItems with a CTR'\n",
        "      f'< {ctr_to_pause}% and > {imp_threshold} impressions:'\n",
        "      f'{lineitems_to_pause}')\n",
        "\n",
        "print(f'Found {len(lineitems_to_reducebid)} LineItems with a CTR'\n",
        "      f' between {ctr_to_pause}%-{ctr_to_optimise}%, and > {imp_threshold}'\n",
        "      f'\\n impressions: {lineitems_to_reducebid}')"
      ],
      "execution_count": null,
      "outputs": []
    },
    {
      "cell_type": "markdown",
      "metadata": {
        "id": "i5OdhLB2-YuI"
      },
      "source": [
        "**Process optimisation**"
      ]
    },
    {
      "cell_type": "code",
      "metadata": {
        "id": "4srm9okw-YuJ"
      },
      "source": [
        "%%time\n",
        "if lineitems_to_pause:\n",
        "  for lineitem in lineitems_to_pause:\n",
        "    optimise_lineitem(str(lineitem), 'pause')\n",
        "\n",
        "if lineitems_to_reducebid:\n",
        "  for lineitem in lineitems_to_reducebid:\n",
        "    optimise_lineitem(str(lineitem), 'optimise')\n",
        "  \n",
        "print('Optimisation completed')"
      ],
      "execution_count": null,
      "outputs": []
    },
    {
      "cell_type": "markdown",
      "metadata": {
        "id": "mbm9y7SJC0vO"
      },
      "source": [
        "## 2.6 Creative upload"
      ]
    },
    {
      "cell_type": "markdown",
      "metadata": {
        "id": "eAx3HvokmU8s"
      },
      "source": [
        "**Uploading Display creatives from remote storage (http)**\n",
        "\n",
        "The following demonstrates how to upload image assets from remote storage, but it's also possible to upload from local storage.\n",
        "\n",
        "Reference: https://developers.google.com/display-video/api/guides/creating-creatives/overview"
      ]
    },
    {
      "cell_type": "code",
      "metadata": {
        "id": "bDqB-2GzEKIj"
      },
      "source": [
        "def upload_creative_image_asset(asset_url, click_url):\n",
        "  \"\"\"Creates a new DV360 creative object.\"\"\"\n",
        "\n",
        "  # Fetch asset from cloud storage using requests library\n",
        "  asset = requests.get(asset_url)\n",
        "\n",
        "  # Create upload object from http image url\n",
        "  fh = io.BytesIO(asset.content)\n",
        "  media_body = http.MediaIoBaseUpload(fh, mimetype='image/png',\n",
        "                                      chunksize=1024*1024, resumable=True)\n",
        "\n",
        "  # Extract filename from url path\n",
        "  filename = str(asset_url.rsplit(sep='/', maxsplit=1)[1])\n",
        "\n",
        "  # Create the request body\n",
        "  body = {'filename': filename}\n",
        "\n",
        "  # Upload the asset\n",
        "  asset_request = display_video_service.advertisers().assets().upload(\n",
        "      advertiserId=ADVERTISER_ID, body=body, media_body=media_body).execute()\n",
        "\n",
        "  # Display the new asset media ID\n",
        "  print(f\"Asset was created with media ID {asset_request['asset']['mediaId']}\")\n",
        "\n",
        "  display_name = f'{filename}'.split(sep='.')[0].lower() + ' 300x250'\n",
        "\n",
        "  # Create a creative object.\n",
        "  creative_obj = {\n",
        "      'displayName':\n",
        "          f'{display_name}',\n",
        "      'entityStatus':\n",
        "          'ENTITY_STATUS_ACTIVE',\n",
        "      'creativeType':\n",
        "          'CREATIVE_TYPE_STANDARD',\n",
        "      'hostingSource':\n",
        "          'HOSTING_SOURCE_HOSTED',\n",
        "      'dimensions': {\n",
        "          'widthPixels': 300,\n",
        "          'heightPixels': 250\n",
        "      },\n",
        "      'assets': [{\n",
        "          'asset': {\n",
        "              'mediaId': asset_request['asset']['mediaId']\n",
        "          },\n",
        "          'role': 'ASSET_ROLE_MAIN'\n",
        "      }],\n",
        "      'exitEvents': [{\n",
        "          'type': 'EXIT_EVENT_TYPE_DEFAULT',\n",
        "          'url': f'{click_url}',\n",
        "      }]\n",
        "  }\n",
        "\n",
        "  creative_request = display_video_service.advertisers().creatives().create(\n",
        "      advertiserId=ADVERTISER_ID,\n",
        "      body=creative_obj\n",
        "      ).execute()\n",
        "\n",
        "  # Display the new creative ID\n",
        "  print(f\"Creative was created with ID {creative_request['creativeId']}\"\n",
        "        f\" and DisplayName '{creative_request['displayName']}'\")\n",
        "\n",
        "  pprint.pprint(creative_request)\n",
        "\n",
        "print('Creative upload function defined')"
      ],
      "execution_count": null,
      "outputs": []
    },
    {
      "cell_type": "markdown",
      "metadata": {
        "id": "UTRn3IlxjWbY"
      },
      "source": [
        "**Upload image creatives**\n",
        "\n",
        "Note, all of the following assets are the same dimension (300x250) and type 'CREATIVE_TYPE_STANDARD'. \n",
        "\n",
        "When uploading assets of multiple sizes, the creatives.create body must reflect this."
      ]
    },
    {
      "cell_type": "code",
      "metadata": {
        "id": "yhjRUJtGN86X"
      },
      "source": [
        "image_assets = {\n",
        "    'https://github.com/google/dv360-automation/blob/master/docs/images/googlestore/pixelbook.png?raw=true':\n",
        "    'https://store.google.com/product/google_pixelbook',\n",
        "    'https://github.com/google/dv360-automation/blob/master/docs/images/googlestore/googlehome.png?raw=true':\n",
        "    'https://store.google.com/product/google_home_hub',\n",
        "    'https://github.com/google/dv360-automation/blob/master/docs/images/googlestore/googlehomemini.png?raw=true':\n",
        "    'https://store.google.com/product/google_home_mini',\n",
        "    'https://github.com/google/dv360-automation/blob/master/docs/images/googlestore/pixel2.png?raw=true':\n",
        "    'https://store.google.com/product/pixel_2',\n",
        "    'https://github.com/google/dv360-automation/blob/master/docs/images/googlestore/chromecastultra.png?raw=true':\n",
        "    'https://store.google.com/product/chromecast_ultra'\n",
        "}\n",
        "\n",
        "for asset, click_url in image_assets.items():\n",
        "  upload_creative_image_asset(asset, click_url)"
      ],
      "execution_count": null,
      "outputs": []
    },
    {
      "cell_type": "markdown",
      "metadata": {
        "id": "KzSBf65OnjWH"
      },
      "source": [
        "## 2.7 Challenge"
      ]
    },
    {
      "cell_type": "markdown",
      "metadata": {
        "id": "zhcY4KyOvZWR"
      },
      "source": [
        "Challenge: build a new campaign for 'Google Airways' using the flights feed provided [here](https://docs.google.com/spreadsheets/d/1CmP0q7QQa0GPJnLlSgqROw_oMXrrbNj8osITTR1-Wh8/edit#gid=1820110788).\n",
        "\n",
        "**Tips**\n",
        "\n",
        "*   You don't need to rewrite any functions, reuse the existing ones\n",
        "*   Don't forget to use print() statements to see progress within a for loop\n",
        "\n",
        "Your final campaign should look similar to the below:\n",
        "\n",
        "![Example campaign structure](https://github.com/google/dv360-automation/blob/master/docs/images/googleairways_campaign.png?raw=true)\n"
      ]
    },
    {
      "cell_type": "code",
      "metadata": {
        "id": "H2WDUjRQ_bkA"
      },
      "source": [
        "#TODO"
      ],
      "execution_count": null,
      "outputs": []
    },
    {
      "cell_type": "markdown",
      "metadata": {
        "id": "-tFjU6q1_MSX"
      },
      "source": [
        "**Solution**"
      ]
    },
    {
      "cell_type": "code",
      "metadata": {
        "id": "2KaNBkNxK3Zl"
      },
      "source": [
        "%%time\n",
        "# Load flight information from CSV file\n",
        "googleairways_routes = files.upload()\n",
        "contents = next(iter(googleairways_routes.values())).decode('utf-8')\n",
        "routes = list(csv.DictReader(io.StringIO(contents)))\n",
        "\n",
        "# Create a unique set (de-duped) of cities from the routes provided\n",
        "unique_cities = set()\n",
        "for row in routes:\n",
        "  unique_cities.add(row['airport-city'])\n",
        "print(unique_cities)\n",
        "\n",
        "# Create Campaign and Patch()\n",
        "new_campaign = create_campaign('Google Airways')\n",
        "print(new_campaign)\n",
        "\n",
        "# Step through each city within our unique set of cities\n",
        "for city in unique_cities:\n",
        "  # Create Insertion Order and Patch()\n",
        "  io_name = f'Flights | {city}'\n",
        "  create_io = create_insertion_order(new_campaign['campaignId'], io_name)\n",
        "# Step through each route(row) of the CSV upload\n",
        " for row in routes:\n",
        "   if city == row['airport-city']:\n",
        "     # Create LineItems and Patch()\n",
        "     li_name = f\"Flight {row['flightno']} | {row['depairport-city']} to {row['arrairport-city']}\"\n",
        "     create_lis = create_lineitem(create_io['insertionOrderId'], li_name)\n",
        "\n",
        "print('Process completed')"
      ],
      "execution_count": null,
      "outputs": []
    },
    {
      "cell_type": "markdown",
      "metadata": {
        "id": "DNlljNZGxkFB"
      },
      "source": [
        "[Link to DV360 UI](https://displayvideo.google.com/)"
      ]
    },
    {
      "cell_type": "markdown",
      "metadata": {
        "id": "A9AsAKyL_8Nw"
      },
      "source": [
        "# Resources"
      ]
    },
    {
      "cell_type": "markdown",
      "metadata": {
        "id": "vGwAmM9TgyZf"
      },
      "source": [
        "*   [Getting started with SDF](https://support.google.com/displayvideo/answer/6301070?hl=en) in DV360 guide\n",
        "*   [Structured Data Files (SDF)](https://developers.google.com/bid-manager/guides/structured-data-file/format)  developer guide\n",
        "*   Getting started with the [Display & Video 360 API](https://developers.google.com/display-video/api/guides/getting-started/overview) developer guide\n",
        "*   Getting started with the [DoubleClick Bid Manager API](https://developers.google.com/bid-manager/guides/getting-started-api) developer guide\n",
        "*   How to access [Entity Read Files](https://developers.google.com/bid-manager/guides/entity-read/overview)\n",
        "*  Quickstart: Setup the [Vision API](https://cloud.google.com/vision/docs/setup)\n",
        "\n",
        "---\n",
        "\n",
        "Please help us improve this workshop by completing the [satisfaction survey](https://docs.google.com/forms/d/e/1FAIpQLScohvcSHWuUHdoVB--Q6YSpHRMFwmnl3BjCcM23X6RZa79kkw/viewform)\n",
        "\n",
        "Thank you!"
      ]
    },
    {
      "cell_type": "markdown",
      "metadata": {
        "id": "NNXYZjPw0RK2"
      },
      "source": [
        "# Clean up\n"
      ]
    },
    {
      "cell_type": "markdown",
      "metadata": {
        "id": "lbc_BHYPZE5g"
      },
      "source": [
        "To clean up all of the DV360 resources used during these exercises, you can run the following script. **Warning**: this will remove all Campaigns from the DV360 advertiser specified in ADVERTISER_ID, unless they are explicitly defined as a 'protected_campaign'"
      ]
    },
    {
      "cell_type": "code",
      "metadata": {
        "id": "tjnTinGYj8Xl"
      },
      "source": [
        "# Exclude following campaigns in the reset process\n",
        "protected_campaigns = ['1914007','985747']\n",
        "\n",
        "def reset_demo_account():\n",
        "  \"\"\"Reset DV360 account to earlier state.\"\"\"\n",
        "\n",
        "  print('Resetting DV360 account...')\n",
        "\n",
        "  # Reactivate Campaigns\n",
        "  list_campaigns = display_video_service.advertisers().campaigns().list(\n",
        "      advertiserId=ADVERTISER_ID,\n",
        "      filter='entityStatus=\"ENTITY_STATUS_ACTIVE\"').execute()\n",
        "\n",
        "  results = list_campaigns['campaigns']\n",
        "  print(f'Found {len(results)} active campaigns')\n",
        "\n",
        "  for index, campaign in enumerate(results, start=1):\n",
        "    print(f'Campaign {index} of {len(results)}')\n",
        "    pause_campaign(campaign['campaignId'])\n",
        "\n",
        "  # Reactivate LineItems\n",
        "  list_lineitems = display_video_service.advertisers().lineItems().list(\n",
        "      advertiserId=ADVERTISER_ID,\n",
        "      filter='entityStatus=\"ENTITY_STATUS_PAUSED\" AND campaignId=\"1914007\"'\n",
        "  ).execute()\n",
        "\n",
        "  if not list_lineitems:\n",
        "    print('No paused lineitems found')\n",
        "  else:\n",
        "    for index, li in enumerate(list_lineitems['lineItems'], start=1):\n",
        "      print(f\"Lineitem {index} of {len(list_lineitems['lineItems'])}\")\n",
        "      lineitem_id = li['lineItemId']\n",
        "      activate_lineitem(lineitem_id)\n",
        "\n",
        "  print('Account reset completed')\n",
        "\n",
        "\n",
        "def delete_campaign(campaign_id):\n",
        "  \"\"\"Updates DV360 campaign object status to deleted.\"\"\"\n",
        "\n",
        "  if campaign_id in protected_campaigns:\n",
        "    print(f'Campaign ID {campaign_id} not deleted (protected campaign)')\n",
        "  else:\n",
        "    try:\n",
        "      display_video_service.advertisers().campaigns().delete(\n",
        "          advertiserId=ADVERTISER_ID, campaignId=campaign_id).execute()\n",
        "      print(f'{campaign_id} successfully deleted')\n",
        "    except Exception:\n",
        "      print('Could not delete campaign')\n",
        "\n",
        "\n",
        "def archive_campaign(campaign_id):\n",
        "  \"\"\"Updates DV360 campaign object status to archived.\"\"\"\n",
        "\n",
        "  patch = {'entityStatus': 'ENTITY_STATUS_ARCHIVED'}\n",
        "\n",
        "  if campaign_id in protected_campaigns:\n",
        "    print(f'Campaign ID {campaign_id} not archived (protected campaign)')\n",
        "  else:\n",
        "    archive_campaign = display_video_service.advertisers().campaigns().patch(\n",
        "        advertiserId=ADVERTISER_ID,\n",
        "        campaignId=campaign_id,\n",
        "        updateMask='entityStatus',\n",
        "        body=patch).execute()\n",
        "    print(f'Campaign ID {campaign_id} successfully archived')\n",
        "\n",
        "\n",
        "def pause_campaign(campaign_id):\n",
        "  \"\"\"Updates DV360 campaign object status to paused.\"\"\"\n",
        "\n",
        "  patch = {'entityStatus': 'ENTITY_STATUS_PAUSED'}\n",
        "\n",
        "  if campaign_id in protected_campaigns:\n",
        "    print(f'Campaign ID {campaign_id} not paused (protected campaign)')\n",
        "  else:\n",
        "    display_video_service.advertisers().campaigns().patch(\n",
        "        advertiserId=ADVERTISER_ID,\n",
        "        campaignId=campaign_id,\n",
        "        updateMask='entityStatus',\n",
        "        body=patch).execute()\n",
        "    print(f'Campaign ID {campaign_id} successfully paused')\n",
        "\n",
        "\n",
        "def activate_lineitem(lineitem_id):\n",
        "  \"\"\"Updates DV360 lineitem object status to active.\"\"\"\n",
        "\n",
        "  patch = {'entityStatus': 'ENTITY_STATUS_ACTIVE'}\n",
        "\n",
        "  display_video_service.advertisers().lineItems().patch(\n",
        "      lineItemId=lineitem_id,\n",
        "      advertiserId=ADVERTISER_ID,\n",
        "      updateMask='entityStatus',\n",
        "      body=patch).execute()\n",
        "  print(f'Lineitem ID {lineitem_id} reactivated')"
      ],
      "execution_count": null,
      "outputs": []
    },
    {
      "cell_type": "code",
      "metadata": {
        "id": "VXGrLBA7FWqk"
      },
      "source": [
        "# @title { display-mode: \"form\" }\n",
        "#@markdown Reset DV360 account\n",
        "\n",
        "# Call main function to intialise reset procedure\n",
        "reset_demo_account()"
      ],
      "execution_count": null,
      "outputs": []
    },
    {
      "cell_type": "markdown",
      "metadata": {
        "id": "ftw74L9-lK7T"
      },
      "source": [
        "Copyright 2020 Google Inc. Licensed under the Apache License, Version 2.0 (the \"License\"); you may not use this file except in compliance with the License. You may obtain a copy of the License at http://www.apache.org/licenses/LICENSE-2.0 Unless required by applicable law or agreed to in writing, software distributed under the License is distributed on an \"AS IS\" BASIS, WITHOUT WARRANTIES OR CONDITIONS OF ANY KIND, either express or implied. See the License for the specific language governing permissions and limitations under the License"
      ]
    }
  ]
}